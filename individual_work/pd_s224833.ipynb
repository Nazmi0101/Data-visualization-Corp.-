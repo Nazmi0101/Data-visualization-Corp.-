{
 "cells": [
  {
   "attachments": {},
   "cell_type": "markdown",
   "metadata": {},
   "source": [
    "# Introduction"
   ]
  },
  {
   "attachments": {},
   "cell_type": "markdown",
   "metadata": {},
   "source": [
    "Hopefully, this short tutorial can show you a lot of different commands that will help you gain the most insights into your dataset. "
   ]
  },
  {
   "cell_type": "code",
   "execution_count": 1,
   "metadata": {
    "collapsed": true
   },
   "outputs": [],
   "source": [
    "import pandas as pd\n",
    "from src.utils import load_data_from_google_drive"
   ]
  },
  {
   "attachments": {},
   "cell_type": "markdown",
   "metadata": {},
   "source": [
    "# Loading in Data"
   ]
  },
  {
   "attachments": {},
   "cell_type": "markdown",
   "metadata": {},
   "source": [
    "The initial stage in addressing any machine learning problem involves recognizing the data format and subsequently importing it into the chosen framework. In the context of Kaggle competitions, a significant amount of data is often available in CSV files, and that's the illustration we will employ."
   ]
  },
  {
   "attachments": {},
   "cell_type": "markdown",
   "metadata": {},
   "source": [
    "We will examine a sports dataset displaying outcomes of NCAA basketball games spanning from 1985 to 2016. This dataset is stored in a CSV file, and the method we'll employ to import the file is pd.read_csv(). This function yields a dataframe variable, which is a pivotal data structure in Pandas. A dataframe is characterized as \"a two-dimensional size-mutable, potentially heterogeneous tabular data structure with labeled axes (rows and columns).\""
   ]
  },
  {
   "attachments": {},
   "cell_type": "markdown",
   "metadata": {},
   "source": [
    "Just think of it as a table for now. "
   ]
  },
  {
   "cell_type": "code",
   "execution_count": 2,
   "metadata": {
    "collapsed": false
   },
   "outputs": [],
   "source": [
    "df = load_data_from_google_drive(url='https://drive.google.com/file/d/184JcLbSpArA_uq0DgAv2k892KChJVPHt/view?usp=share_link')"
   ]
  },
  {
   "cell_type": "code",
   "execution_count": 3,
   "metadata": {},
   "outputs": [
    {
     "data": {
      "text/html": [
       "<div>\n",
       "<style scoped>\n",
       "    .dataframe tbody tr th:only-of-type {\n",
       "        vertical-align: middle;\n",
       "    }\n",
       "\n",
       "    .dataframe tbody tr th {\n",
       "        vertical-align: top;\n",
       "    }\n",
       "\n",
       "    .dataframe thead th {\n",
       "        text-align: right;\n",
       "    }\n",
       "</style>\n",
       "<table border=\"1\" class=\"dataframe\">\n",
       "  <thead>\n",
       "    <tr style=\"text-align: right;\">\n",
       "      <th></th>\n",
       "      <th>Season</th>\n",
       "      <th>Daynum</th>\n",
       "      <th>Wteam</th>\n",
       "      <th>Wscore</th>\n",
       "      <th>Lteam</th>\n",
       "      <th>Lscore</th>\n",
       "      <th>Wloc</th>\n",
       "      <th>Numot</th>\n",
       "    </tr>\n",
       "  </thead>\n",
       "  <tbody>\n",
       "    <tr>\n",
       "      <th>0</th>\n",
       "      <td>1985</td>\n",
       "      <td>20</td>\n",
       "      <td>1228</td>\n",
       "      <td>81</td>\n",
       "      <td>1328</td>\n",
       "      <td>64</td>\n",
       "      <td>N</td>\n",
       "      <td>0</td>\n",
       "    </tr>\n",
       "    <tr>\n",
       "      <th>1</th>\n",
       "      <td>1985</td>\n",
       "      <td>25</td>\n",
       "      <td>1106</td>\n",
       "      <td>77</td>\n",
       "      <td>1354</td>\n",
       "      <td>70</td>\n",
       "      <td>H</td>\n",
       "      <td>0</td>\n",
       "    </tr>\n",
       "    <tr>\n",
       "      <th>2</th>\n",
       "      <td>1985</td>\n",
       "      <td>25</td>\n",
       "      <td>1112</td>\n",
       "      <td>63</td>\n",
       "      <td>1223</td>\n",
       "      <td>56</td>\n",
       "      <td>H</td>\n",
       "      <td>0</td>\n",
       "    </tr>\n",
       "    <tr>\n",
       "      <th>3</th>\n",
       "      <td>1985</td>\n",
       "      <td>25</td>\n",
       "      <td>1165</td>\n",
       "      <td>70</td>\n",
       "      <td>1432</td>\n",
       "      <td>54</td>\n",
       "      <td>H</td>\n",
       "      <td>0</td>\n",
       "    </tr>\n",
       "    <tr>\n",
       "      <th>4</th>\n",
       "      <td>1985</td>\n",
       "      <td>25</td>\n",
       "      <td>1192</td>\n",
       "      <td>86</td>\n",
       "      <td>1447</td>\n",
       "      <td>74</td>\n",
       "      <td>H</td>\n",
       "      <td>0</td>\n",
       "    </tr>\n",
       "    <tr>\n",
       "      <th>...</th>\n",
       "      <td>...</td>\n",
       "      <td>...</td>\n",
       "      <td>...</td>\n",
       "      <td>...</td>\n",
       "      <td>...</td>\n",
       "      <td>...</td>\n",
       "      <td>...</td>\n",
       "      <td>...</td>\n",
       "    </tr>\n",
       "    <tr>\n",
       "      <th>145284</th>\n",
       "      <td>2016</td>\n",
       "      <td>132</td>\n",
       "      <td>1114</td>\n",
       "      <td>70</td>\n",
       "      <td>1419</td>\n",
       "      <td>50</td>\n",
       "      <td>N</td>\n",
       "      <td>0</td>\n",
       "    </tr>\n",
       "    <tr>\n",
       "      <th>145285</th>\n",
       "      <td>2016</td>\n",
       "      <td>132</td>\n",
       "      <td>1163</td>\n",
       "      <td>72</td>\n",
       "      <td>1272</td>\n",
       "      <td>58</td>\n",
       "      <td>N</td>\n",
       "      <td>0</td>\n",
       "    </tr>\n",
       "    <tr>\n",
       "      <th>145286</th>\n",
       "      <td>2016</td>\n",
       "      <td>132</td>\n",
       "      <td>1246</td>\n",
       "      <td>82</td>\n",
       "      <td>1401</td>\n",
       "      <td>77</td>\n",
       "      <td>N</td>\n",
       "      <td>1</td>\n",
       "    </tr>\n",
       "    <tr>\n",
       "      <th>145287</th>\n",
       "      <td>2016</td>\n",
       "      <td>132</td>\n",
       "      <td>1277</td>\n",
       "      <td>66</td>\n",
       "      <td>1345</td>\n",
       "      <td>62</td>\n",
       "      <td>N</td>\n",
       "      <td>0</td>\n",
       "    </tr>\n",
       "    <tr>\n",
       "      <th>145288</th>\n",
       "      <td>2016</td>\n",
       "      <td>132</td>\n",
       "      <td>1386</td>\n",
       "      <td>87</td>\n",
       "      <td>1433</td>\n",
       "      <td>74</td>\n",
       "      <td>N</td>\n",
       "      <td>0</td>\n",
       "    </tr>\n",
       "  </tbody>\n",
       "</table>\n",
       "<p>145289 rows × 8 columns</p>\n",
       "</div>"
      ],
      "text/plain": [
       "        Season  Daynum  Wteam  Wscore  Lteam  Lscore Wloc  Numot\n",
       "0         1985      20   1228      81   1328      64    N      0\n",
       "1         1985      25   1106      77   1354      70    H      0\n",
       "2         1985      25   1112      63   1223      56    H      0\n",
       "3         1985      25   1165      70   1432      54    H      0\n",
       "4         1985      25   1192      86   1447      74    H      0\n",
       "...        ...     ...    ...     ...    ...     ...  ...    ...\n",
       "145284    2016     132   1114      70   1419      50    N      0\n",
       "145285    2016     132   1163      72   1272      58    N      0\n",
       "145286    2016     132   1246      82   1401      77    N      1\n",
       "145287    2016     132   1277      66   1345      62    N      0\n",
       "145288    2016     132   1386      87   1433      74    N      0\n",
       "\n",
       "[145289 rows x 8 columns]"
      ]
     },
     "execution_count": 3,
     "metadata": {},
     "output_type": "execute_result"
    }
   ],
   "source": [
    "df"
   ]
  },
  {
   "attachments": {},
   "cell_type": "markdown",
   "metadata": {},
   "source": [
    "# The Basics"
   ]
  },
  {
   "attachments": {},
   "cell_type": "markdown",
   "metadata": {},
   "source": [
    "Now that we have our dataframe in our variable df, let's look at what it contains. We can use the function **head()** to see the first couple rows of the dataframe (or the function **tail()** to see the last few rows)."
   ]
  },
  {
   "cell_type": "code",
   "execution_count": 4,
   "metadata": {
    "collapsed": false
   },
   "outputs": [
    {
     "data": {
      "text/html": [
       "<div>\n",
       "<style scoped>\n",
       "    .dataframe tbody tr th:only-of-type {\n",
       "        vertical-align: middle;\n",
       "    }\n",
       "\n",
       "    .dataframe tbody tr th {\n",
       "        vertical-align: top;\n",
       "    }\n",
       "\n",
       "    .dataframe thead th {\n",
       "        text-align: right;\n",
       "    }\n",
       "</style>\n",
       "<table border=\"1\" class=\"dataframe\">\n",
       "  <thead>\n",
       "    <tr style=\"text-align: right;\">\n",
       "      <th></th>\n",
       "      <th>Season</th>\n",
       "      <th>Daynum</th>\n",
       "      <th>Wteam</th>\n",
       "      <th>Wscore</th>\n",
       "      <th>Lteam</th>\n",
       "      <th>Lscore</th>\n",
       "      <th>Wloc</th>\n",
       "      <th>Numot</th>\n",
       "    </tr>\n",
       "  </thead>\n",
       "  <tbody>\n",
       "    <tr>\n",
       "      <th>0</th>\n",
       "      <td>1985</td>\n",
       "      <td>20</td>\n",
       "      <td>1228</td>\n",
       "      <td>81</td>\n",
       "      <td>1328</td>\n",
       "      <td>64</td>\n",
       "      <td>N</td>\n",
       "      <td>0</td>\n",
       "    </tr>\n",
       "    <tr>\n",
       "      <th>1</th>\n",
       "      <td>1985</td>\n",
       "      <td>25</td>\n",
       "      <td>1106</td>\n",
       "      <td>77</td>\n",
       "      <td>1354</td>\n",
       "      <td>70</td>\n",
       "      <td>H</td>\n",
       "      <td>0</td>\n",
       "    </tr>\n",
       "    <tr>\n",
       "      <th>2</th>\n",
       "      <td>1985</td>\n",
       "      <td>25</td>\n",
       "      <td>1112</td>\n",
       "      <td>63</td>\n",
       "      <td>1223</td>\n",
       "      <td>56</td>\n",
       "      <td>H</td>\n",
       "      <td>0</td>\n",
       "    </tr>\n",
       "    <tr>\n",
       "      <th>3</th>\n",
       "      <td>1985</td>\n",
       "      <td>25</td>\n",
       "      <td>1165</td>\n",
       "      <td>70</td>\n",
       "      <td>1432</td>\n",
       "      <td>54</td>\n",
       "      <td>H</td>\n",
       "      <td>0</td>\n",
       "    </tr>\n",
       "    <tr>\n",
       "      <th>4</th>\n",
       "      <td>1985</td>\n",
       "      <td>25</td>\n",
       "      <td>1192</td>\n",
       "      <td>86</td>\n",
       "      <td>1447</td>\n",
       "      <td>74</td>\n",
       "      <td>H</td>\n",
       "      <td>0</td>\n",
       "    </tr>\n",
       "  </tbody>\n",
       "</table>\n",
       "</div>"
      ],
      "text/plain": [
       "   Season  Daynum  Wteam  Wscore  Lteam  Lscore Wloc  Numot\n",
       "0    1985      20   1228      81   1328      64    N      0\n",
       "1    1985      25   1106      77   1354      70    H      0\n",
       "2    1985      25   1112      63   1223      56    H      0\n",
       "3    1985      25   1165      70   1432      54    H      0\n",
       "4    1985      25   1192      86   1447      74    H      0"
      ]
     },
     "execution_count": 4,
     "metadata": {},
     "output_type": "execute_result"
    }
   ],
   "source": [
    "df.head()"
   ]
  },
  {
   "cell_type": "code",
   "execution_count": 5,
   "metadata": {
    "collapsed": false
   },
   "outputs": [
    {
     "data": {
      "text/html": [
       "<div>\n",
       "<style scoped>\n",
       "    .dataframe tbody tr th:only-of-type {\n",
       "        vertical-align: middle;\n",
       "    }\n",
       "\n",
       "    .dataframe tbody tr th {\n",
       "        vertical-align: top;\n",
       "    }\n",
       "\n",
       "    .dataframe thead th {\n",
       "        text-align: right;\n",
       "    }\n",
       "</style>\n",
       "<table border=\"1\" class=\"dataframe\">\n",
       "  <thead>\n",
       "    <tr style=\"text-align: right;\">\n",
       "      <th></th>\n",
       "      <th>Season</th>\n",
       "      <th>Daynum</th>\n",
       "      <th>Wteam</th>\n",
       "      <th>Wscore</th>\n",
       "      <th>Lteam</th>\n",
       "      <th>Lscore</th>\n",
       "      <th>Wloc</th>\n",
       "      <th>Numot</th>\n",
       "    </tr>\n",
       "  </thead>\n",
       "  <tbody>\n",
       "    <tr>\n",
       "      <th>145284</th>\n",
       "      <td>2016</td>\n",
       "      <td>132</td>\n",
       "      <td>1114</td>\n",
       "      <td>70</td>\n",
       "      <td>1419</td>\n",
       "      <td>50</td>\n",
       "      <td>N</td>\n",
       "      <td>0</td>\n",
       "    </tr>\n",
       "    <tr>\n",
       "      <th>145285</th>\n",
       "      <td>2016</td>\n",
       "      <td>132</td>\n",
       "      <td>1163</td>\n",
       "      <td>72</td>\n",
       "      <td>1272</td>\n",
       "      <td>58</td>\n",
       "      <td>N</td>\n",
       "      <td>0</td>\n",
       "    </tr>\n",
       "    <tr>\n",
       "      <th>145286</th>\n",
       "      <td>2016</td>\n",
       "      <td>132</td>\n",
       "      <td>1246</td>\n",
       "      <td>82</td>\n",
       "      <td>1401</td>\n",
       "      <td>77</td>\n",
       "      <td>N</td>\n",
       "      <td>1</td>\n",
       "    </tr>\n",
       "    <tr>\n",
       "      <th>145287</th>\n",
       "      <td>2016</td>\n",
       "      <td>132</td>\n",
       "      <td>1277</td>\n",
       "      <td>66</td>\n",
       "      <td>1345</td>\n",
       "      <td>62</td>\n",
       "      <td>N</td>\n",
       "      <td>0</td>\n",
       "    </tr>\n",
       "    <tr>\n",
       "      <th>145288</th>\n",
       "      <td>2016</td>\n",
       "      <td>132</td>\n",
       "      <td>1386</td>\n",
       "      <td>87</td>\n",
       "      <td>1433</td>\n",
       "      <td>74</td>\n",
       "      <td>N</td>\n",
       "      <td>0</td>\n",
       "    </tr>\n",
       "  </tbody>\n",
       "</table>\n",
       "</div>"
      ],
      "text/plain": [
       "        Season  Daynum  Wteam  Wscore  Lteam  Lscore Wloc  Numot\n",
       "145284    2016     132   1114      70   1419      50    N      0\n",
       "145285    2016     132   1163      72   1272      58    N      0\n",
       "145286    2016     132   1246      82   1401      77    N      1\n",
       "145287    2016     132   1277      66   1345      62    N      0\n",
       "145288    2016     132   1386      87   1433      74    N      0"
      ]
     },
     "execution_count": 5,
     "metadata": {},
     "output_type": "execute_result"
    }
   ],
   "source": [
    "df.tail()"
   ]
  },
  {
   "attachments": {},
   "cell_type": "markdown",
   "metadata": {},
   "source": [
    "We can see the dimensions of the dataframe using the the **shape** attribute"
   ]
  },
  {
   "cell_type": "code",
   "execution_count": 6,
   "metadata": {
    "collapsed": false
   },
   "outputs": [
    {
     "data": {
      "text/plain": [
       "(145289, 8)"
      ]
     },
     "execution_count": 6,
     "metadata": {},
     "output_type": "execute_result"
    }
   ],
   "source": [
    "df.shape"
   ]
  },
  {
   "attachments": {},
   "cell_type": "markdown",
   "metadata": {
    "collapsed": true
   },
   "source": [
    "We can also extract all the column names as a list, by using the **columns** attribute and can extract the rows with the **index** attribute"
   ]
  },
  {
   "cell_type": "code",
   "execution_count": 8,
   "metadata": {
    "collapsed": false
   },
   "outputs": [
    {
     "data": {
      "text/plain": [
       "['Season', 'Daynum', 'Wteam', 'Wscore', 'Lteam', 'Lscore', 'Wloc', 'Numot']"
      ]
     },
     "execution_count": 8,
     "metadata": {},
     "output_type": "execute_result"
    }
   ],
   "source": [
    "df.columns.tolist()"
   ]
  },
  {
   "attachments": {},
   "cell_type": "markdown",
   "metadata": {},
   "source": [
    "In order to get a better idea of the type of data that we are dealing with, we can call the **describe()** function to see statistics like mean, min, etc about each column of the dataset. "
   ]
  },
  {
   "cell_type": "code",
   "execution_count": 9,
   "metadata": {
    "collapsed": false
   },
   "outputs": [
    {
     "data": {
      "text/html": [
       "<div>\n",
       "<style scoped>\n",
       "    .dataframe tbody tr th:only-of-type {\n",
       "        vertical-align: middle;\n",
       "    }\n",
       "\n",
       "    .dataframe tbody tr th {\n",
       "        vertical-align: top;\n",
       "    }\n",
       "\n",
       "    .dataframe thead th {\n",
       "        text-align: right;\n",
       "    }\n",
       "</style>\n",
       "<table border=\"1\" class=\"dataframe\">\n",
       "  <thead>\n",
       "    <tr style=\"text-align: right;\">\n",
       "      <th></th>\n",
       "      <th>Season</th>\n",
       "      <th>Daynum</th>\n",
       "      <th>Wteam</th>\n",
       "      <th>Wscore</th>\n",
       "      <th>Lteam</th>\n",
       "      <th>Lscore</th>\n",
       "      <th>Numot</th>\n",
       "    </tr>\n",
       "  </thead>\n",
       "  <tbody>\n",
       "    <tr>\n",
       "      <th>count</th>\n",
       "      <td>145289.000000</td>\n",
       "      <td>145289.000000</td>\n",
       "      <td>145289.000000</td>\n",
       "      <td>145289.000000</td>\n",
       "      <td>145289.000000</td>\n",
       "      <td>145289.000000</td>\n",
       "      <td>145289.000000</td>\n",
       "    </tr>\n",
       "    <tr>\n",
       "      <th>mean</th>\n",
       "      <td>2001.574834</td>\n",
       "      <td>75.223816</td>\n",
       "      <td>1286.720646</td>\n",
       "      <td>76.600321</td>\n",
       "      <td>1282.864064</td>\n",
       "      <td>64.497009</td>\n",
       "      <td>0.044387</td>\n",
       "    </tr>\n",
       "    <tr>\n",
       "      <th>std</th>\n",
       "      <td>9.233342</td>\n",
       "      <td>33.287418</td>\n",
       "      <td>104.570275</td>\n",
       "      <td>12.173033</td>\n",
       "      <td>104.829234</td>\n",
       "      <td>11.380625</td>\n",
       "      <td>0.247819</td>\n",
       "    </tr>\n",
       "    <tr>\n",
       "      <th>min</th>\n",
       "      <td>1985.000000</td>\n",
       "      <td>0.000000</td>\n",
       "      <td>1101.000000</td>\n",
       "      <td>34.000000</td>\n",
       "      <td>1101.000000</td>\n",
       "      <td>20.000000</td>\n",
       "      <td>0.000000</td>\n",
       "    </tr>\n",
       "    <tr>\n",
       "      <th>25%</th>\n",
       "      <td>1994.000000</td>\n",
       "      <td>47.000000</td>\n",
       "      <td>1198.000000</td>\n",
       "      <td>68.000000</td>\n",
       "      <td>1191.000000</td>\n",
       "      <td>57.000000</td>\n",
       "      <td>0.000000</td>\n",
       "    </tr>\n",
       "    <tr>\n",
       "      <th>50%</th>\n",
       "      <td>2002.000000</td>\n",
       "      <td>78.000000</td>\n",
       "      <td>1284.000000</td>\n",
       "      <td>76.000000</td>\n",
       "      <td>1280.000000</td>\n",
       "      <td>64.000000</td>\n",
       "      <td>0.000000</td>\n",
       "    </tr>\n",
       "    <tr>\n",
       "      <th>75%</th>\n",
       "      <td>2010.000000</td>\n",
       "      <td>103.000000</td>\n",
       "      <td>1379.000000</td>\n",
       "      <td>84.000000</td>\n",
       "      <td>1375.000000</td>\n",
       "      <td>72.000000</td>\n",
       "      <td>0.000000</td>\n",
       "    </tr>\n",
       "    <tr>\n",
       "      <th>max</th>\n",
       "      <td>2016.000000</td>\n",
       "      <td>132.000000</td>\n",
       "      <td>1464.000000</td>\n",
       "      <td>186.000000</td>\n",
       "      <td>1464.000000</td>\n",
       "      <td>150.000000</td>\n",
       "      <td>6.000000</td>\n",
       "    </tr>\n",
       "  </tbody>\n",
       "</table>\n",
       "</div>"
      ],
      "text/plain": [
       "              Season         Daynum          Wteam         Wscore  \\\n",
       "count  145289.000000  145289.000000  145289.000000  145289.000000   \n",
       "mean     2001.574834      75.223816    1286.720646      76.600321   \n",
       "std         9.233342      33.287418     104.570275      12.173033   \n",
       "min      1985.000000       0.000000    1101.000000      34.000000   \n",
       "25%      1994.000000      47.000000    1198.000000      68.000000   \n",
       "50%      2002.000000      78.000000    1284.000000      76.000000   \n",
       "75%      2010.000000     103.000000    1379.000000      84.000000   \n",
       "max      2016.000000     132.000000    1464.000000     186.000000   \n",
       "\n",
       "               Lteam         Lscore          Numot  \n",
       "count  145289.000000  145289.000000  145289.000000  \n",
       "mean     1282.864064      64.497009       0.044387  \n",
       "std       104.829234      11.380625       0.247819  \n",
       "min      1101.000000      20.000000       0.000000  \n",
       "25%      1191.000000      57.000000       0.000000  \n",
       "50%      1280.000000      64.000000       0.000000  \n",
       "75%      1375.000000      72.000000       0.000000  \n",
       "max      1464.000000     150.000000       6.000000  "
      ]
     },
     "execution_count": 9,
     "metadata": {},
     "output_type": "execute_result"
    }
   ],
   "source": [
    "df.describe()"
   ]
  },
  {
   "attachments": {},
   "cell_type": "markdown",
   "metadata": {},
   "source": [
    "Okay, so now let's looking at information that we want to extract from the dataframe. Let's say I wanted to know the max value of a certain column. The function **max()** will show you the maximum values of all columns"
   ]
  },
  {
   "cell_type": "code",
   "execution_count": 10,
   "metadata": {
    "collapsed": false
   },
   "outputs": [
    {
     "data": {
      "text/plain": [
       "Season    2016\n",
       "Daynum     132\n",
       "Wteam     1464\n",
       "Wscore     186\n",
       "Lteam     1464\n",
       "Lscore     150\n",
       "Wloc         N\n",
       "Numot        6\n",
       "dtype: object"
      ]
     },
     "execution_count": 10,
     "metadata": {},
     "output_type": "execute_result"
    }
   ],
   "source": [
    "df.max()"
   ]
  },
  {
   "attachments": {},
   "cell_type": "markdown",
   "metadata": {},
   "source": [
    "Then, if you'd like to specifically get the max value for a particular column, you pass in the name of the column using the bracket indexing operator"
   ]
  },
  {
   "cell_type": "code",
   "execution_count": 11,
   "metadata": {
    "collapsed": false
   },
   "outputs": [
    {
     "data": {
      "text/plain": [
       "186"
      ]
     },
     "execution_count": 11,
     "metadata": {},
     "output_type": "execute_result"
    }
   ],
   "source": [
    "df['Wscore'].max()"
   ]
  },
  {
   "attachments": {},
   "cell_type": "markdown",
   "metadata": {},
   "source": [
    "If you'd like to find the mean of the Losing teams' score. "
   ]
  },
  {
   "cell_type": "code",
   "execution_count": 12,
   "metadata": {
    "collapsed": false
   },
   "outputs": [
    {
     "data": {
      "text/plain": [
       "64.49700940883343"
      ]
     },
     "execution_count": 12,
     "metadata": {},
     "output_type": "execute_result"
    }
   ],
   "source": [
    "df['Lscore'].mean()"
   ]
  },
  {
   "attachments": {},
   "cell_type": "markdown",
   "metadata": {},
   "source": [
    "But what if that's not enough? Let's say we want to actually see the game(row) where this max score happened. We can call the **argmax()** function to identify the row index"
   ]
  },
  {
   "cell_type": "code",
   "execution_count": 13,
   "metadata": {
    "collapsed": false
   },
   "outputs": [
    {
     "data": {
      "text/plain": [
       "24970"
      ]
     },
     "execution_count": 13,
     "metadata": {},
     "output_type": "execute_result"
    }
   ],
   "source": [
    "df['Wscore'].argmax()"
   ]
  },
  {
   "attachments": {},
   "cell_type": "markdown",
   "metadata": {},
   "source": [
    "One of the most useful functions that you can call on certain columns in a dataframe is the **value_counts()** function. It shows how many times each item appears in the column. This particular command shows the number of games in each season"
   ]
  },
  {
   "cell_type": "code",
   "execution_count": 14,
   "metadata": {
    "collapsed": false
   },
   "outputs": [
    {
     "data": {
      "text/plain": [
       "2016    5369\n",
       "2014    5362\n",
       "2015    5354\n",
       "2013    5320\n",
       "2010    5263\n",
       "2012    5253\n",
       "2009    5249\n",
       "2011    5246\n",
       "2008    5163\n",
       "2007    5043\n",
       "2006    4757\n",
       "2005    4675\n",
       "2003    4616\n",
       "2004    4571\n",
       "2002    4555\n",
       "2000    4519\n",
       "2001    4467\n",
       "1999    4222\n",
       "1998    4167\n",
       "1997    4155\n",
       "1992    4127\n",
       "1991    4123\n",
       "1996    4122\n",
       "1995    4077\n",
       "1994    4060\n",
       "1990    4045\n",
       "1989    4037\n",
       "1993    3982\n",
       "1988    3955\n",
       "1987    3915\n",
       "1986    3783\n",
       "1985    3737\n",
       "Name: Season, dtype: int64"
      ]
     },
     "execution_count": 14,
     "metadata": {},
     "output_type": "execute_result"
    }
   ],
   "source": [
    "df['Season'].value_counts()"
   ]
  },
  {
   "attachments": {},
   "cell_type": "markdown",
   "metadata": {},
   "source": [
    "**Q**: How many unique seasons are there in the dataset? Use the nunique() function."
   ]
  },
  {
   "cell_type": "code",
   "execution_count": 16,
   "metadata": {},
   "outputs": [
    {
     "name": "stdout",
     "output_type": "stream",
     "text": [
      "32\n"
     ]
    }
   ],
   "source": [
    "#This code calculates and prints the number of unique seasons in the 'Season' column of a dataframe.\n",
    "\n",
    "unique_seasons = len(df['Season'].unique())\n",
    "print(unique_seasons)"
   ]
  },
  {
   "attachments": {},
   "cell_type": "markdown",
   "metadata": {},
   "source": [
    "**Q**: Find the team with the most wins. Use the value_counts() function on the Wteam column."
   ]
  },
  {
   "cell_type": "code",
   "execution_count": 18,
   "metadata": {},
   "outputs": [
    {
     "name": "stdout",
     "output_type": "stream",
     "text": [
      "Team with the most wins: 1181\n"
     ]
    }
   ],
   "source": [
    "from collections import Counter\n",
    "\n",
    "# Count the number of wins for each team in the 'Wteam' column\n",
    "win_counts = Counter(df['Wteam'])\n",
    "\n",
    "# Find the team with the most wins by identifying the team code with the maximum count\n",
    "team_with_most_wins = max(win_counts, key=win_counts.get)\n",
    "\n",
    "# Print the team with the most wins\n",
    "print(\"Team with the most wins:\", team_with_most_wins)"
   ]
  },
  {
   "attachments": {},
   "cell_type": "markdown",
   "metadata": {},
   "source": [
    "# Acessing Values"
   ]
  },
  {
   "attachments": {},
   "cell_type": "markdown",
   "metadata": {},
   "source": [
    "Then, in order to get attributes about the game, we need to use the **iloc[]** function. Iloc is definitely one of the more important functions. The main idea is that you want to use it whenever you have the integer index of a certain row that you want to access. As per Pandas documentation, iloc is an \"integer-location based indexing for selection by position.\""
   ]
  },
  {
   "cell_type": "code",
   "execution_count": 16,
   "metadata": {
    "collapsed": false
   },
   "outputs": [
    {
     "data": {
      "text/html": [
       "<div>\n",
       "<style scoped>\n",
       "    .dataframe tbody tr th:only-of-type {\n",
       "        vertical-align: middle;\n",
       "    }\n",
       "\n",
       "    .dataframe tbody tr th {\n",
       "        vertical-align: top;\n",
       "    }\n",
       "\n",
       "    .dataframe thead th {\n",
       "        text-align: right;\n",
       "    }\n",
       "</style>\n",
       "<table border=\"1\" class=\"dataframe\">\n",
       "  <thead>\n",
       "    <tr style=\"text-align: right;\">\n",
       "      <th></th>\n",
       "      <th>Season</th>\n",
       "      <th>Daynum</th>\n",
       "      <th>Wteam</th>\n",
       "      <th>Wscore</th>\n",
       "      <th>Lteam</th>\n",
       "      <th>Lscore</th>\n",
       "      <th>Wloc</th>\n",
       "      <th>Numot</th>\n",
       "    </tr>\n",
       "  </thead>\n",
       "  <tbody>\n",
       "    <tr>\n",
       "      <th>24970</th>\n",
       "      <td>1991</td>\n",
       "      <td>68</td>\n",
       "      <td>1258</td>\n",
       "      <td>186</td>\n",
       "      <td>1109</td>\n",
       "      <td>140</td>\n",
       "      <td>H</td>\n",
       "      <td>0</td>\n",
       "    </tr>\n",
       "  </tbody>\n",
       "</table>\n",
       "</div>"
      ],
      "text/plain": [
       "       Season  Daynum  Wteam  Wscore  Lteam  Lscore Wloc  Numot\n",
       "24970    1991      68   1258     186   1109     140    H      0"
      ]
     },
     "execution_count": 16,
     "metadata": {},
     "output_type": "execute_result"
    }
   ],
   "source": [
    "df.iloc[[df['Wscore'].argmax()]]"
   ]
  },
  {
   "attachments": {},
   "cell_type": "markdown",
   "metadata": {},
   "source": [
    "Let's take this a step further. Let's say you want to know the game with the highest scoring winning team (this is what we just calculated), but you then want to know how many points the losing team scored. "
   ]
  },
  {
   "cell_type": "code",
   "execution_count": 17,
   "metadata": {
    "collapsed": false
   },
   "outputs": [
    {
     "data": {
      "text/plain": [
       "24970    140\n",
       "Name: Lscore, dtype: int64"
      ]
     },
     "execution_count": 17,
     "metadata": {},
     "output_type": "execute_result"
    }
   ],
   "source": [
    "df.iloc[[df['Wscore'].argmax()]]['Lscore']"
   ]
  },
  {
   "attachments": {},
   "cell_type": "markdown",
   "metadata": {},
   "source": [
    "When you see data displayed in the above format, you're dealing with a Pandas **Series** object, not a dataframe object."
   ]
  },
  {
   "cell_type": "code",
   "execution_count": 18,
   "metadata": {
    "collapsed": false
   },
   "outputs": [
    {
     "data": {
      "text/plain": [
       "pandas.core.series.Series"
      ]
     },
     "execution_count": 18,
     "metadata": {},
     "output_type": "execute_result"
    }
   ],
   "source": [
    "type(df.iloc[[df['Wscore'].argmax()]]['Lscore'])"
   ]
  },
  {
   "cell_type": "code",
   "execution_count": 19,
   "metadata": {
    "collapsed": false
   },
   "outputs": [
    {
     "data": {
      "text/plain": [
       "pandas.core.frame.DataFrame"
      ]
     },
     "execution_count": 19,
     "metadata": {},
     "output_type": "execute_result"
    }
   ],
   "source": [
    "type(df.iloc[[df['Wscore'].argmax()]])"
   ]
  },
  {
   "attachments": {},
   "cell_type": "markdown",
   "metadata": {},
   "source": [
    "The following is a summary of the 3 data structures in Pandas (Haven't ever really used Panels yet)\n",
    "\n",
    "![](DataStructures.png)"
   ]
  },
  {
   "attachments": {},
   "cell_type": "markdown",
   "metadata": {},
   "source": [
    "When you want to access values in a Series, you'll want to just treat the Series like a Python dictionary, so you'd access the value according to its key (which is normally an integer index)"
   ]
  },
  {
   "cell_type": "code",
   "execution_count": 20,
   "metadata": {
    "collapsed": false
   },
   "outputs": [
    {
     "data": {
      "text/plain": [
       "140"
      ]
     },
     "execution_count": 20,
     "metadata": {},
     "output_type": "execute_result"
    }
   ],
   "source": [
    "df.iloc[[df['Wscore'].argmax()]]['Lscore'][24970]"
   ]
  },
  {
   "attachments": {},
   "cell_type": "markdown",
   "metadata": {},
   "source": [
    "The other really important function in Pandas is the **loc** function. Contrary to iloc, which is an integer based indexing, loc is a \"Purely label-location based indexer for selection by label\". Since all the games are ordered from 0 to 145288, iloc and loc are going to be pretty interchangable in this type of dataset"
   ]
  },
  {
   "cell_type": "code",
   "execution_count": 21,
   "metadata": {
    "collapsed": false
   },
   "outputs": [
    {
     "data": {
      "text/html": [
       "<div>\n",
       "<style scoped>\n",
       "    .dataframe tbody tr th:only-of-type {\n",
       "        vertical-align: middle;\n",
       "    }\n",
       "\n",
       "    .dataframe tbody tr th {\n",
       "        vertical-align: top;\n",
       "    }\n",
       "\n",
       "    .dataframe thead th {\n",
       "        text-align: right;\n",
       "    }\n",
       "</style>\n",
       "<table border=\"1\" class=\"dataframe\">\n",
       "  <thead>\n",
       "    <tr style=\"text-align: right;\">\n",
       "      <th></th>\n",
       "      <th>Season</th>\n",
       "      <th>Daynum</th>\n",
       "      <th>Wteam</th>\n",
       "      <th>Wscore</th>\n",
       "      <th>Lteam</th>\n",
       "      <th>Lscore</th>\n",
       "      <th>Wloc</th>\n",
       "      <th>Numot</th>\n",
       "    </tr>\n",
       "  </thead>\n",
       "  <tbody>\n",
       "    <tr>\n",
       "      <th>0</th>\n",
       "      <td>1985</td>\n",
       "      <td>20</td>\n",
       "      <td>1228</td>\n",
       "      <td>81</td>\n",
       "      <td>1328</td>\n",
       "      <td>64</td>\n",
       "      <td>N</td>\n",
       "      <td>0</td>\n",
       "    </tr>\n",
       "    <tr>\n",
       "      <th>1</th>\n",
       "      <td>1985</td>\n",
       "      <td>25</td>\n",
       "      <td>1106</td>\n",
       "      <td>77</td>\n",
       "      <td>1354</td>\n",
       "      <td>70</td>\n",
       "      <td>H</td>\n",
       "      <td>0</td>\n",
       "    </tr>\n",
       "    <tr>\n",
       "      <th>2</th>\n",
       "      <td>1985</td>\n",
       "      <td>25</td>\n",
       "      <td>1112</td>\n",
       "      <td>63</td>\n",
       "      <td>1223</td>\n",
       "      <td>56</td>\n",
       "      <td>H</td>\n",
       "      <td>0</td>\n",
       "    </tr>\n",
       "  </tbody>\n",
       "</table>\n",
       "</div>"
      ],
      "text/plain": [
       "   Season  Daynum  Wteam  Wscore  Lteam  Lscore Wloc  Numot\n",
       "0    1985      20   1228      81   1328      64    N      0\n",
       "1    1985      25   1106      77   1354      70    H      0\n",
       "2    1985      25   1112      63   1223      56    H      0"
      ]
     },
     "execution_count": 21,
     "metadata": {},
     "output_type": "execute_result"
    }
   ],
   "source": [
    "df.iloc[:3]"
   ]
  },
  {
   "cell_type": "code",
   "execution_count": 22,
   "metadata": {
    "collapsed": false
   },
   "outputs": [
    {
     "data": {
      "text/html": [
       "<div>\n",
       "<style scoped>\n",
       "    .dataframe tbody tr th:only-of-type {\n",
       "        vertical-align: middle;\n",
       "    }\n",
       "\n",
       "    .dataframe tbody tr th {\n",
       "        vertical-align: top;\n",
       "    }\n",
       "\n",
       "    .dataframe thead th {\n",
       "        text-align: right;\n",
       "    }\n",
       "</style>\n",
       "<table border=\"1\" class=\"dataframe\">\n",
       "  <thead>\n",
       "    <tr style=\"text-align: right;\">\n",
       "      <th></th>\n",
       "      <th>Season</th>\n",
       "      <th>Daynum</th>\n",
       "      <th>Wteam</th>\n",
       "      <th>Wscore</th>\n",
       "      <th>Lteam</th>\n",
       "      <th>Lscore</th>\n",
       "      <th>Wloc</th>\n",
       "      <th>Numot</th>\n",
       "    </tr>\n",
       "  </thead>\n",
       "  <tbody>\n",
       "    <tr>\n",
       "      <th>0</th>\n",
       "      <td>1985</td>\n",
       "      <td>20</td>\n",
       "      <td>1228</td>\n",
       "      <td>81</td>\n",
       "      <td>1328</td>\n",
       "      <td>64</td>\n",
       "      <td>N</td>\n",
       "      <td>0</td>\n",
       "    </tr>\n",
       "    <tr>\n",
       "      <th>1</th>\n",
       "      <td>1985</td>\n",
       "      <td>25</td>\n",
       "      <td>1106</td>\n",
       "      <td>77</td>\n",
       "      <td>1354</td>\n",
       "      <td>70</td>\n",
       "      <td>H</td>\n",
       "      <td>0</td>\n",
       "    </tr>\n",
       "    <tr>\n",
       "      <th>2</th>\n",
       "      <td>1985</td>\n",
       "      <td>25</td>\n",
       "      <td>1112</td>\n",
       "      <td>63</td>\n",
       "      <td>1223</td>\n",
       "      <td>56</td>\n",
       "      <td>H</td>\n",
       "      <td>0</td>\n",
       "    </tr>\n",
       "    <tr>\n",
       "      <th>3</th>\n",
       "      <td>1985</td>\n",
       "      <td>25</td>\n",
       "      <td>1165</td>\n",
       "      <td>70</td>\n",
       "      <td>1432</td>\n",
       "      <td>54</td>\n",
       "      <td>H</td>\n",
       "      <td>0</td>\n",
       "    </tr>\n",
       "  </tbody>\n",
       "</table>\n",
       "</div>"
      ],
      "text/plain": [
       "   Season  Daynum  Wteam  Wscore  Lteam  Lscore Wloc  Numot\n",
       "0    1985      20   1228      81   1328      64    N      0\n",
       "1    1985      25   1106      77   1354      70    H      0\n",
       "2    1985      25   1112      63   1223      56    H      0\n",
       "3    1985      25   1165      70   1432      54    H      0"
      ]
     },
     "execution_count": 22,
     "metadata": {},
     "output_type": "execute_result"
    }
   ],
   "source": [
    "df.loc[:3]"
   ]
  },
  {
   "attachments": {},
   "cell_type": "markdown",
   "metadata": {},
   "source": [
    "Notice the slight difference in that iloc is exclusive of the second number, while loc is inclusive. "
   ]
  },
  {
   "attachments": {},
   "cell_type": "markdown",
   "metadata": {},
   "source": [
    "Below is an example of how you can use loc to acheive the same task as we did previously with iloc"
   ]
  },
  {
   "cell_type": "code",
   "execution_count": 23,
   "metadata": {
    "collapsed": false
   },
   "outputs": [
    {
     "data": {
      "text/plain": [
       "140"
      ]
     },
     "execution_count": 23,
     "metadata": {},
     "output_type": "execute_result"
    }
   ],
   "source": [
    "df.loc[df['Wscore'].argmax(), 'Lscore']"
   ]
  },
  {
   "attachments": {},
   "cell_type": "markdown",
   "metadata": {},
   "source": [
    "A faster version uses the **at()** function. At() is really useful wheneever you know the row label and the column label of the particular value that you want to get. "
   ]
  },
  {
   "cell_type": "code",
   "execution_count": 24,
   "metadata": {
    "collapsed": false
   },
   "outputs": [
    {
     "data": {
      "text/plain": [
       "140"
      ]
     },
     "execution_count": 24,
     "metadata": {},
     "output_type": "execute_result"
    }
   ],
   "source": [
    "df.at[df['Wscore'].argmax(), 'Lscore']"
   ]
  },
  {
   "attachments": {},
   "cell_type": "markdown",
   "metadata": {},
   "source": [
    "If you'd like to see more discussion on how loc and iloc are different, check out this great Stack Overflow post: http://stackoverflow.com/questions/31593201/pandas-iloc-vs-ix-vs-loc-explanation. Just remember that **iloc looks at position** and **loc looks at labels**. Loc becomes very important when your row labels aren't integers. "
   ]
  },
  {
   "attachments": {},
   "cell_type": "markdown",
   "metadata": {},
   "source": [
    "# Sorting"
   ]
  },
  {
   "attachments": {},
   "cell_type": "markdown",
   "metadata": {},
   "source": [
    "Let's say that we want to sort the dataframe in increasing order for the scores of the losing team"
   ]
  },
  {
   "cell_type": "code",
   "execution_count": 25,
   "metadata": {
    "collapsed": false,
    "scrolled": true
   },
   "outputs": [
    {
     "data": {
      "text/html": [
       "<div>\n",
       "<style scoped>\n",
       "    .dataframe tbody tr th:only-of-type {\n",
       "        vertical-align: middle;\n",
       "    }\n",
       "\n",
       "    .dataframe tbody tr th {\n",
       "        vertical-align: top;\n",
       "    }\n",
       "\n",
       "    .dataframe thead th {\n",
       "        text-align: right;\n",
       "    }\n",
       "</style>\n",
       "<table border=\"1\" class=\"dataframe\">\n",
       "  <thead>\n",
       "    <tr style=\"text-align: right;\">\n",
       "      <th></th>\n",
       "      <th>Season</th>\n",
       "      <th>Daynum</th>\n",
       "      <th>Wteam</th>\n",
       "      <th>Wscore</th>\n",
       "      <th>Lteam</th>\n",
       "      <th>Lscore</th>\n",
       "      <th>Wloc</th>\n",
       "      <th>Numot</th>\n",
       "    </tr>\n",
       "  </thead>\n",
       "  <tbody>\n",
       "    <tr>\n",
       "      <th>100027</th>\n",
       "      <td>2008</td>\n",
       "      <td>66</td>\n",
       "      <td>1203</td>\n",
       "      <td>49</td>\n",
       "      <td>1387</td>\n",
       "      <td>20</td>\n",
       "      <td>H</td>\n",
       "      <td>0</td>\n",
       "    </tr>\n",
       "    <tr>\n",
       "      <th>49310</th>\n",
       "      <td>1997</td>\n",
       "      <td>66</td>\n",
       "      <td>1157</td>\n",
       "      <td>61</td>\n",
       "      <td>1204</td>\n",
       "      <td>21</td>\n",
       "      <td>H</td>\n",
       "      <td>0</td>\n",
       "    </tr>\n",
       "    <tr>\n",
       "      <th>89021</th>\n",
       "      <td>2006</td>\n",
       "      <td>44</td>\n",
       "      <td>1284</td>\n",
       "      <td>41</td>\n",
       "      <td>1343</td>\n",
       "      <td>21</td>\n",
       "      <td>A</td>\n",
       "      <td>0</td>\n",
       "    </tr>\n",
       "    <tr>\n",
       "      <th>85042</th>\n",
       "      <td>2005</td>\n",
       "      <td>66</td>\n",
       "      <td>1131</td>\n",
       "      <td>73</td>\n",
       "      <td>1216</td>\n",
       "      <td>22</td>\n",
       "      <td>H</td>\n",
       "      <td>0</td>\n",
       "    </tr>\n",
       "    <tr>\n",
       "      <th>103660</th>\n",
       "      <td>2009</td>\n",
       "      <td>26</td>\n",
       "      <td>1326</td>\n",
       "      <td>59</td>\n",
       "      <td>1359</td>\n",
       "      <td>22</td>\n",
       "      <td>H</td>\n",
       "      <td>0</td>\n",
       "    </tr>\n",
       "  </tbody>\n",
       "</table>\n",
       "</div>"
      ],
      "text/plain": [
       "        Season  Daynum  Wteam  Wscore  Lteam  Lscore Wloc  Numot\n",
       "100027    2008      66   1203      49   1387      20    H      0\n",
       "49310     1997      66   1157      61   1204      21    H      0\n",
       "89021     2006      44   1284      41   1343      21    A      0\n",
       "85042     2005      66   1131      73   1216      22    H      0\n",
       "103660    2009      26   1326      59   1359      22    H      0"
      ]
     },
     "execution_count": 25,
     "metadata": {},
     "output_type": "execute_result"
    }
   ],
   "source": [
    "df.sort_values('Lscore').head()"
   ]
  },
  {
   "attachments": {},
   "cell_type": "markdown",
   "metadata": {},
   "source": [
    "**Q**: Make three dataframes that are sorted by season, winning team, and winning score respectively. Then, Using iloc, select the rows from index 100 to 200 and the columns for season, winning team, and winning score, respectively. "
   ]
  },
  {
   "cell_type": "code",
   "execution_count": 19,
   "metadata": {},
   "outputs": [
    {
     "name": "stdout",
     "output_type": "stream",
     "text": [
      "Sorted by Season:\n",
      "        Season  Daynum  Wteam  Wscore  Lteam  Lscore Wloc  Numot\n",
      "0         1985      20   1228      81   1328      64    N      0\n",
      "2484      1985      99   1275      73   1132      63    H      0\n",
      "2485      1985      99   1306      62   1171      59    H      0\n",
      "2486      1985      99   1318      99   1145      91    H      0\n",
      "2487      1985      99   1337      75   1109      56    H      0\n",
      "...        ...     ...    ...     ...    ...     ...  ...    ...\n",
      "141706    2016      50   1300      57   1183      52    N      0\n",
      "141705    2016      50   1298      62   1202      49    H      0\n",
      "141704    2016      50   1295      68   1410      50    N      0\n",
      "141702    2016      50   1277      99   1324      93    N      1\n",
      "145288    2016     132   1386      87   1433      74    N      0\n",
      "\n",
      "[145289 rows x 8 columns]\n",
      "\n",
      "Sorted by Winning Team:\n",
      "        Season  Daynum  Wteam  Wscore  Lteam  Lscore Wloc  Numot\n",
      "140642    2016      25   1101      72   1197      62    N      0\n",
      "136740    2015      62   1101      87   1146      70    H      0\n",
      "143283    2016      89   1101      80   1249      71    H      0\n",
      "143476    2016      92   1101      79   1223      72    H      0\n",
      "141972    2016      61   1101      62   1146      61    A      0\n",
      "...        ...     ...    ...     ...    ...     ...  ...    ...\n",
      "56143     1998     125   1464      75   1282      59    N      0\n",
      "94008     2007      41   1464      68   1454      65    A      0\n",
      "41936     1995      84   1464      67   1282      52    H      0\n",
      "110589    2010      68   1464      71   1260      67    H      0\n",
      "46638     1996      98   1464      73   1442      48    H      0\n",
      "\n",
      "[145289 rows x 8 columns]\n",
      "\n",
      "Sorted by Winning Score:\n",
      "        Season  Daynum  Wteam  Wscore  Lteam  Lscore Wloc  Numot\n",
      "128582    2013     116   1264      34   1193      31    H      0\n",
      "69336     2001     126   1206      35   1423      33    N      0\n",
      "5364      1986      77   1229      35   1166      34    A      0\n",
      "20246     1990      47   1374      36   1426      31    H      0\n",
      "118590    2011     130   1336      36   1458      33    N      0\n",
      "...        ...     ...    ...     ...    ...     ...  ...    ...\n",
      "20022     1990      40   1116     166   1109     101    H      0\n",
      "24341     1991      47   1328     172   1258     112    H      0\n",
      "19653     1990      30   1328     173   1109     101    H      0\n",
      "17867     1989      92   1258     181   1109     150    H      0\n",
      "24970     1991      68   1258     186   1109     140    H      0\n",
      "\n",
      "[145289 rows x 8 columns]\n",
      "\n",
      "Selected Rows and Columns:\n",
      "     Season  Wteam  Wscore\n",
      "100    1985   1409      86\n",
      "101    1985   1444      90\n",
      "102    1985   1451      89\n",
      "103    1985   1139      78\n",
      "104    1985   1154      78\n",
      "..      ...    ...     ...\n",
      "196    1985   1203      83\n",
      "197    1985   1222      73\n",
      "198    1985   1227      76\n",
      "199    1985   1228      73\n",
      "200    1985   1229      54\n",
      "\n",
      "[101 rows x 3 columns]\n"
     ]
    }
   ],
   "source": [
    "# Sort the dataframe by the 'Season' column and assign it to a new variable\n",
    "sorted_by_season = df.sort_values(by='Season')\n",
    "\n",
    "# Sort the dataframe by the 'Wteam' column and assign it to a new variable\n",
    "sorted_by_winning_team = df.sort_values(by='Wteam')\n",
    "\n",
    "# Sort the dataframe by the 'Wscore' column and assign it to a new variable\n",
    "sorted_by_winning_score = df.sort_values(by='Wscore')\n",
    "\n",
    "# Select rows from index 100 to 200 and specific columns (Season, Wteam, Wscore)\n",
    "selected_data = df.iloc[100:201, [0, 2, 3]]  # Assuming Season is column 0, Wteam is column 2, Wscore is column 3\n",
    "\n",
    "# Print the dataframe sorted by 'Season'\n",
    "print(\"Sorted by Season:\")\n",
    "print(sorted_by_season)\n",
    "\n",
    "# Print the dataframe sorted by 'Wteam'\n",
    "print(\"\\nSorted by Winning Team:\")\n",
    "print(sorted_by_winning_team)\n",
    "\n",
    "# Print the dataframe sorted by 'Wscore'\n",
    "print(\"\\nSorted by Winning Score:\")\n",
    "print(sorted_by_winning_score)\n",
    "\n",
    "# Print the selected rows and columns\n",
    "print(\"\\nSelected Rows and Columns:\")\n",
    "print(selected_data)\n"
   ]
  },
  {
   "attachments": {},
   "cell_type": "markdown",
   "metadata": {},
   "source": [
    "**Q**: From these three subsets you obtained above, find the season and winning team for the game with the highest winning score."
   ]
  },
  {
   "cell_type": "code",
   "execution_count": 20,
   "metadata": {},
   "outputs": [
    {
     "name": "stdout",
     "output_type": "stream",
     "text": [
      "Game with the Highest Winning Score:\n",
      "Season: 2013\n",
      "Winning Team: 1264\n",
      "Winning Score: 34\n"
     ]
    }
   ],
   "source": [
    "# Find the game with the highest winning score from the sorted_by_winning_score dataframe\n",
    "highest_winning_score_row = sorted_by_winning_score.iloc[0]\n",
    "\n",
    "# Retrieve the highest winning score, season, and winning team from the original dataframe\n",
    "highest_winning_score = highest_winning_score_row['Wscore']\n",
    "season_of_highest_score = highest_winning_score_row['Season']\n",
    "winning_team_of_highest_score = highest_winning_score_row['Wteam']\n",
    "\n",
    "# Print the game with the highest winning score\n",
    "print(\"Game with the Highest Winning Score:\")\n",
    "print(\"Season:\", season_of_highest_score)\n",
    "print(\"Winning Team:\", winning_team_of_highest_score)\n",
    "print(\"Winning Score:\", highest_winning_score)\n"
   ]
  },
  {
   "attachments": {},
   "cell_type": "markdown",
   "metadata": {},
   "source": [
    "# Filtering Rows Conditionally"
   ]
  },
  {
   "attachments": {},
   "cell_type": "markdown",
   "metadata": {},
   "source": [
    "Now, let's say we want to find all of the rows that satisy a particular condition. For example, I want to find all of the games where the winning team scored more than 150 points. The idea behind this command is you want to access the column 'Wscore' of the dataframe df (df['Wscore']), find which entries are above 150 (df['Wscore'] > 150), and then returns only those specific rows in a dataframe format (df[df['Wscore'] > 150])."
   ]
  },
  {
   "cell_type": "code",
   "execution_count": 28,
   "metadata": {
    "collapsed": false
   },
   "outputs": [
    {
     "data": {
      "text/html": [
       "<div>\n",
       "<style scoped>\n",
       "    .dataframe tbody tr th:only-of-type {\n",
       "        vertical-align: middle;\n",
       "    }\n",
       "\n",
       "    .dataframe tbody tr th {\n",
       "        vertical-align: top;\n",
       "    }\n",
       "\n",
       "    .dataframe thead th {\n",
       "        text-align: right;\n",
       "    }\n",
       "</style>\n",
       "<table border=\"1\" class=\"dataframe\">\n",
       "  <thead>\n",
       "    <tr style=\"text-align: right;\">\n",
       "      <th></th>\n",
       "      <th>Season</th>\n",
       "      <th>Daynum</th>\n",
       "      <th>Wteam</th>\n",
       "      <th>Wscore</th>\n",
       "      <th>Lteam</th>\n",
       "      <th>Lscore</th>\n",
       "      <th>Wloc</th>\n",
       "      <th>Numot</th>\n",
       "    </tr>\n",
       "  </thead>\n",
       "  <tbody>\n",
       "    <tr>\n",
       "      <th>5269</th>\n",
       "      <td>1986</td>\n",
       "      <td>75</td>\n",
       "      <td>1258</td>\n",
       "      <td>151</td>\n",
       "      <td>1109</td>\n",
       "      <td>107</td>\n",
       "      <td>H</td>\n",
       "      <td>0</td>\n",
       "    </tr>\n",
       "    <tr>\n",
       "      <th>12046</th>\n",
       "      <td>1988</td>\n",
       "      <td>40</td>\n",
       "      <td>1328</td>\n",
       "      <td>152</td>\n",
       "      <td>1147</td>\n",
       "      <td>84</td>\n",
       "      <td>H</td>\n",
       "      <td>0</td>\n",
       "    </tr>\n",
       "    <tr>\n",
       "      <th>12355</th>\n",
       "      <td>1988</td>\n",
       "      <td>52</td>\n",
       "      <td>1328</td>\n",
       "      <td>151</td>\n",
       "      <td>1173</td>\n",
       "      <td>99</td>\n",
       "      <td>N</td>\n",
       "      <td>0</td>\n",
       "    </tr>\n",
       "    <tr>\n",
       "      <th>16040</th>\n",
       "      <td>1989</td>\n",
       "      <td>40</td>\n",
       "      <td>1328</td>\n",
       "      <td>152</td>\n",
       "      <td>1331</td>\n",
       "      <td>122</td>\n",
       "      <td>H</td>\n",
       "      <td>0</td>\n",
       "    </tr>\n",
       "    <tr>\n",
       "      <th>16853</th>\n",
       "      <td>1989</td>\n",
       "      <td>68</td>\n",
       "      <td>1258</td>\n",
       "      <td>162</td>\n",
       "      <td>1109</td>\n",
       "      <td>144</td>\n",
       "      <td>A</td>\n",
       "      <td>0</td>\n",
       "    </tr>\n",
       "    <tr>\n",
       "      <th>17867</th>\n",
       "      <td>1989</td>\n",
       "      <td>92</td>\n",
       "      <td>1258</td>\n",
       "      <td>181</td>\n",
       "      <td>1109</td>\n",
       "      <td>150</td>\n",
       "      <td>H</td>\n",
       "      <td>0</td>\n",
       "    </tr>\n",
       "    <tr>\n",
       "      <th>19653</th>\n",
       "      <td>1990</td>\n",
       "      <td>30</td>\n",
       "      <td>1328</td>\n",
       "      <td>173</td>\n",
       "      <td>1109</td>\n",
       "      <td>101</td>\n",
       "      <td>H</td>\n",
       "      <td>0</td>\n",
       "    </tr>\n",
       "    <tr>\n",
       "      <th>19971</th>\n",
       "      <td>1990</td>\n",
       "      <td>38</td>\n",
       "      <td>1258</td>\n",
       "      <td>152</td>\n",
       "      <td>1109</td>\n",
       "      <td>137</td>\n",
       "      <td>A</td>\n",
       "      <td>0</td>\n",
       "    </tr>\n",
       "    <tr>\n",
       "      <th>20022</th>\n",
       "      <td>1990</td>\n",
       "      <td>40</td>\n",
       "      <td>1116</td>\n",
       "      <td>166</td>\n",
       "      <td>1109</td>\n",
       "      <td>101</td>\n",
       "      <td>H</td>\n",
       "      <td>0</td>\n",
       "    </tr>\n",
       "    <tr>\n",
       "      <th>22145</th>\n",
       "      <td>1990</td>\n",
       "      <td>97</td>\n",
       "      <td>1258</td>\n",
       "      <td>157</td>\n",
       "      <td>1362</td>\n",
       "      <td>115</td>\n",
       "      <td>H</td>\n",
       "      <td>0</td>\n",
       "    </tr>\n",
       "    <tr>\n",
       "      <th>23582</th>\n",
       "      <td>1991</td>\n",
       "      <td>26</td>\n",
       "      <td>1318</td>\n",
       "      <td>152</td>\n",
       "      <td>1258</td>\n",
       "      <td>123</td>\n",
       "      <td>N</td>\n",
       "      <td>0</td>\n",
       "    </tr>\n",
       "    <tr>\n",
       "      <th>24341</th>\n",
       "      <td>1991</td>\n",
       "      <td>47</td>\n",
       "      <td>1328</td>\n",
       "      <td>172</td>\n",
       "      <td>1258</td>\n",
       "      <td>112</td>\n",
       "      <td>H</td>\n",
       "      <td>0</td>\n",
       "    </tr>\n",
       "    <tr>\n",
       "      <th>24970</th>\n",
       "      <td>1991</td>\n",
       "      <td>68</td>\n",
       "      <td>1258</td>\n",
       "      <td>186</td>\n",
       "      <td>1109</td>\n",
       "      <td>140</td>\n",
       "      <td>H</td>\n",
       "      <td>0</td>\n",
       "    </tr>\n",
       "    <tr>\n",
       "      <th>25656</th>\n",
       "      <td>1991</td>\n",
       "      <td>84</td>\n",
       "      <td>1106</td>\n",
       "      <td>151</td>\n",
       "      <td>1212</td>\n",
       "      <td>97</td>\n",
       "      <td>H</td>\n",
       "      <td>0</td>\n",
       "    </tr>\n",
       "    <tr>\n",
       "      <th>28687</th>\n",
       "      <td>1992</td>\n",
       "      <td>54</td>\n",
       "      <td>1261</td>\n",
       "      <td>159</td>\n",
       "      <td>1319</td>\n",
       "      <td>86</td>\n",
       "      <td>H</td>\n",
       "      <td>0</td>\n",
       "    </tr>\n",
       "    <tr>\n",
       "      <th>35023</th>\n",
       "      <td>1993</td>\n",
       "      <td>112</td>\n",
       "      <td>1380</td>\n",
       "      <td>155</td>\n",
       "      <td>1341</td>\n",
       "      <td>91</td>\n",
       "      <td>A</td>\n",
       "      <td>0</td>\n",
       "    </tr>\n",
       "    <tr>\n",
       "      <th>40060</th>\n",
       "      <td>1995</td>\n",
       "      <td>32</td>\n",
       "      <td>1375</td>\n",
       "      <td>156</td>\n",
       "      <td>1341</td>\n",
       "      <td>114</td>\n",
       "      <td>H</td>\n",
       "      <td>0</td>\n",
       "    </tr>\n",
       "    <tr>\n",
       "      <th>52600</th>\n",
       "      <td>1998</td>\n",
       "      <td>33</td>\n",
       "      <td>1395</td>\n",
       "      <td>153</td>\n",
       "      <td>1410</td>\n",
       "      <td>87</td>\n",
       "      <td>H</td>\n",
       "      <td>0</td>\n",
       "    </tr>\n",
       "  </tbody>\n",
       "</table>\n",
       "</div>"
      ],
      "text/plain": [
       "       Season  Daynum  Wteam  Wscore  Lteam  Lscore Wloc  Numot\n",
       "5269     1986      75   1258     151   1109     107    H      0\n",
       "12046    1988      40   1328     152   1147      84    H      0\n",
       "12355    1988      52   1328     151   1173      99    N      0\n",
       "16040    1989      40   1328     152   1331     122    H      0\n",
       "16853    1989      68   1258     162   1109     144    A      0\n",
       "17867    1989      92   1258     181   1109     150    H      0\n",
       "19653    1990      30   1328     173   1109     101    H      0\n",
       "19971    1990      38   1258     152   1109     137    A      0\n",
       "20022    1990      40   1116     166   1109     101    H      0\n",
       "22145    1990      97   1258     157   1362     115    H      0\n",
       "23582    1991      26   1318     152   1258     123    N      0\n",
       "24341    1991      47   1328     172   1258     112    H      0\n",
       "24970    1991      68   1258     186   1109     140    H      0\n",
       "25656    1991      84   1106     151   1212      97    H      0\n",
       "28687    1992      54   1261     159   1319      86    H      0\n",
       "35023    1993     112   1380     155   1341      91    A      0\n",
       "40060    1995      32   1375     156   1341     114    H      0\n",
       "52600    1998      33   1395     153   1410      87    H      0"
      ]
     },
     "execution_count": 28,
     "metadata": {},
     "output_type": "execute_result"
    }
   ],
   "source": [
    "df[df['Wscore'] > 150]"
   ]
  },
  {
   "attachments": {},
   "cell_type": "markdown",
   "metadata": {},
   "source": [
    "This also works if you have multiple conditions. Let's say we want to find out when the winning team scores more than 150 points and when the losing team scores below 100. "
   ]
  },
  {
   "cell_type": "code",
   "execution_count": 29,
   "metadata": {
    "collapsed": false
   },
   "outputs": [
    {
     "data": {
      "text/html": [
       "<div>\n",
       "<style scoped>\n",
       "    .dataframe tbody tr th:only-of-type {\n",
       "        vertical-align: middle;\n",
       "    }\n",
       "\n",
       "    .dataframe tbody tr th {\n",
       "        vertical-align: top;\n",
       "    }\n",
       "\n",
       "    .dataframe thead th {\n",
       "        text-align: right;\n",
       "    }\n",
       "</style>\n",
       "<table border=\"1\" class=\"dataframe\">\n",
       "  <thead>\n",
       "    <tr style=\"text-align: right;\">\n",
       "      <th></th>\n",
       "      <th>Season</th>\n",
       "      <th>Daynum</th>\n",
       "      <th>Wteam</th>\n",
       "      <th>Wscore</th>\n",
       "      <th>Lteam</th>\n",
       "      <th>Lscore</th>\n",
       "      <th>Wloc</th>\n",
       "      <th>Numot</th>\n",
       "    </tr>\n",
       "  </thead>\n",
       "  <tbody>\n",
       "    <tr>\n",
       "      <th>12046</th>\n",
       "      <td>1988</td>\n",
       "      <td>40</td>\n",
       "      <td>1328</td>\n",
       "      <td>152</td>\n",
       "      <td>1147</td>\n",
       "      <td>84</td>\n",
       "      <td>H</td>\n",
       "      <td>0</td>\n",
       "    </tr>\n",
       "    <tr>\n",
       "      <th>12355</th>\n",
       "      <td>1988</td>\n",
       "      <td>52</td>\n",
       "      <td>1328</td>\n",
       "      <td>151</td>\n",
       "      <td>1173</td>\n",
       "      <td>99</td>\n",
       "      <td>N</td>\n",
       "      <td>0</td>\n",
       "    </tr>\n",
       "    <tr>\n",
       "      <th>25656</th>\n",
       "      <td>1991</td>\n",
       "      <td>84</td>\n",
       "      <td>1106</td>\n",
       "      <td>151</td>\n",
       "      <td>1212</td>\n",
       "      <td>97</td>\n",
       "      <td>H</td>\n",
       "      <td>0</td>\n",
       "    </tr>\n",
       "    <tr>\n",
       "      <th>28687</th>\n",
       "      <td>1992</td>\n",
       "      <td>54</td>\n",
       "      <td>1261</td>\n",
       "      <td>159</td>\n",
       "      <td>1319</td>\n",
       "      <td>86</td>\n",
       "      <td>H</td>\n",
       "      <td>0</td>\n",
       "    </tr>\n",
       "    <tr>\n",
       "      <th>35023</th>\n",
       "      <td>1993</td>\n",
       "      <td>112</td>\n",
       "      <td>1380</td>\n",
       "      <td>155</td>\n",
       "      <td>1341</td>\n",
       "      <td>91</td>\n",
       "      <td>A</td>\n",
       "      <td>0</td>\n",
       "    </tr>\n",
       "    <tr>\n",
       "      <th>52600</th>\n",
       "      <td>1998</td>\n",
       "      <td>33</td>\n",
       "      <td>1395</td>\n",
       "      <td>153</td>\n",
       "      <td>1410</td>\n",
       "      <td>87</td>\n",
       "      <td>H</td>\n",
       "      <td>0</td>\n",
       "    </tr>\n",
       "  </tbody>\n",
       "</table>\n",
       "</div>"
      ],
      "text/plain": [
       "       Season  Daynum  Wteam  Wscore  Lteam  Lscore Wloc  Numot\n",
       "12046    1988      40   1328     152   1147      84    H      0\n",
       "12355    1988      52   1328     151   1173      99    N      0\n",
       "25656    1991      84   1106     151   1212      97    H      0\n",
       "28687    1992      54   1261     159   1319      86    H      0\n",
       "35023    1993     112   1380     155   1341      91    A      0\n",
       "52600    1998      33   1395     153   1410      87    H      0"
      ]
     },
     "execution_count": 29,
     "metadata": {},
     "output_type": "execute_result"
    }
   ],
   "source": [
    "df[(df['Wscore'] > 150) & (df['Lscore'] < 100)]"
   ]
  },
  {
   "attachments": {},
   "cell_type": "markdown",
   "metadata": {},
   "source": [
    "**Q**: Create a new column in the DataFrame called 'ScoreDifference' which is the absolute difference between the winning score and the losing score. Filter the DataFrame to only include games where the 'ScoreDifference' is greater than the average 'ScoreDifference' for all games."
   ]
  },
  {
   "cell_type": "code",
   "execution_count": 21,
   "metadata": {},
   "outputs": [
    {
     "name": "stdout",
     "output_type": "stream",
     "text": [
      "Filtered Data:\n",
      "        Season  Daynum  Wteam  Wscore  Lteam  Lscore Wloc  Numot  \\\n",
      "0         1985      20   1228      81   1328      64    N      0   \n",
      "3         1985      25   1165      70   1432      54    H      0   \n",
      "6         1985      25   1228      64   1226      44    N      0   \n",
      "8         1985      25   1260      98   1133      80    H      0   \n",
      "10        1985      25   1307     103   1288      71    H      0   \n",
      "...        ...     ...    ...     ...    ...     ...  ...    ...   \n",
      "145280    2016     131   1401      71   1261      38    N      0   \n",
      "145282    2016     131   1433      76   1172      54    N      0   \n",
      "145284    2016     132   1114      70   1419      50    N      0   \n",
      "145285    2016     132   1163      72   1272      58    N      0   \n",
      "145288    2016     132   1386      87   1433      74    N      0   \n",
      "\n",
      "        ScoreDifference  \n",
      "0                    17  \n",
      "3                    16  \n",
      "6                    20  \n",
      "8                    18  \n",
      "10                   32  \n",
      "...                 ...  \n",
      "145280               33  \n",
      "145282               22  \n",
      "145284               20  \n",
      "145285               14  \n",
      "145288               13  \n",
      "\n",
      "[57227 rows x 9 columns]\n"
     ]
    }
   ],
   "source": [
    "# Create a new column 'ScoreDifference' which represents the absolute difference between 'Wscore' and 'Lscore'\n",
    "df['ScoreDifference'] = abs(df['Wscore'] - df['Lscore'])\n",
    "\n",
    "# Calculate the average 'ScoreDifference'\n",
    "average_score_difference = df['ScoreDifference'].mean()\n",
    "\n",
    "# Filter the DataFrame based on the condition where 'ScoreDifference' is greater than the average\n",
    "filtered_data = df.loc[df['ScoreDifference'] > average_score_difference]\n",
    "\n",
    "# Print the filtered data\n",
    "print(\"Filtered Data:\")\n",
    "print(filtered_data)\n"
   ]
  },
  {
   "attachments": {},
   "cell_type": "markdown",
   "metadata": {},
   "source": [
    "**Q**: From this filtered DataFrame, find the season and teams involved in the game with the highest 'ScoreDifference'."
   ]
  },
  {
   "cell_type": "code",
   "execution_count": 22,
   "metadata": {},
   "outputs": [
    {
     "name": "stdout",
     "output_type": "stream",
     "text": [
      "Game with the Highest Score Difference:\n",
      "Season: 1996\n",
      "Winning Team: 1409\n",
      "Losing Team: 1341\n"
     ]
    }
   ],
   "source": [
    "# Find the game with the highest 'ScoreDifference' from the filtered DataFrame\n",
    "highest_score_difference_row = filtered_data.loc[filtered_data['ScoreDifference'].idxmax()]\n",
    "\n",
    "# Retrieve the season, winning team, and losing team with the highest score difference\n",
    "season_of_highest_score_difference = highest_score_difference_row['Season']\n",
    "winning_team = highest_score_difference_row['Wteam']\n",
    "losing_team = highest_score_difference_row['Lteam']\n",
    "\n",
    "# Print the game with the highest score difference\n",
    "print(\"Game with the Highest Score Difference:\")\n",
    "print(\"Season:\", season_of_highest_score_difference)\n",
    "print(\"Winning Team:\", winning_team)\n",
    "print(\"Losing Team:\", losing_team)\n"
   ]
  },
  {
   "attachments": {},
   "cell_type": "markdown",
   "metadata": {},
   "source": [
    "# Grouping"
   ]
  },
  {
   "attachments": {},
   "cell_type": "markdown",
   "metadata": {},
   "source": [
    "Another important function in Pandas is **groupby()**. This is a function that allows you to group entries by certain attributes (e.g Grouping entries by Wteam number) and then perform operations on them. The following function groups all the entries (games) with the same Wteam number and finds the mean for each group. "
   ]
  },
  {
   "cell_type": "code",
   "execution_count": 32,
   "metadata": {
    "collapsed": false
   },
   "outputs": [
    {
     "data": {
      "text/plain": [
       "Wteam\n",
       "1101    78.111111\n",
       "1102    69.893204\n",
       "1103    75.839768\n",
       "1104    75.825944\n",
       "1105    74.960894\n",
       "Name: Wscore, dtype: float64"
      ]
     },
     "execution_count": 32,
     "metadata": {},
     "output_type": "execute_result"
    }
   ],
   "source": [
    "df.groupby('Wteam')['Wscore'].mean().head()"
   ]
  },
  {
   "attachments": {},
   "cell_type": "markdown",
   "metadata": {},
   "source": [
    "This next command groups all the games with the same Wteam number and finds where how many times that specific team won at home, on the road, or at a neutral site"
   ]
  },
  {
   "cell_type": "code",
   "execution_count": 33,
   "metadata": {
    "collapsed": false,
    "scrolled": false
   },
   "outputs": [
    {
     "data": {
      "text/plain": [
       "Wteam  Wloc\n",
       "1101   H        12\n",
       "       A         3\n",
       "       N         3\n",
       "1102   H       204\n",
       "       A        73\n",
       "       N        32\n",
       "1103   H       324\n",
       "       A       153\n",
       "       N        41\n",
       "Name: Wloc, dtype: int64"
      ]
     },
     "execution_count": 33,
     "metadata": {},
     "output_type": "execute_result"
    }
   ],
   "source": [
    "df.groupby('Wteam')['Wloc'].value_counts().head(9)"
   ]
  },
  {
   "attachments": {},
   "cell_type": "markdown",
   "metadata": {},
   "source": [
    "Each dataframe has a **values** attribute which is useful because it basically displays your dataframe in a numpy array style format"
   ]
  },
  {
   "cell_type": "code",
   "execution_count": 34,
   "metadata": {
    "collapsed": false
   },
   "outputs": [
    {
     "data": {
      "text/plain": [
       "array([[1985, 20, 1228, ..., 'N', 0, 17],\n",
       "       [1985, 25, 1106, ..., 'H', 0, 7],\n",
       "       [1985, 25, 1112, ..., 'H', 0, 7],\n",
       "       ...,\n",
       "       [2016, 132, 1246, ..., 'N', 1, 5],\n",
       "       [2016, 132, 1277, ..., 'N', 0, 4],\n",
       "       [2016, 132, 1386, ..., 'N', 0, 13]], dtype=object)"
      ]
     },
     "execution_count": 34,
     "metadata": {},
     "output_type": "execute_result"
    }
   ],
   "source": [
    "df.values"
   ]
  },
  {
   "attachments": {},
   "cell_type": "markdown",
   "metadata": {},
   "source": [
    "Now, you can simply just access elements like you would in an array. "
   ]
  },
  {
   "cell_type": "code",
   "execution_count": 35,
   "metadata": {
    "collapsed": false
   },
   "outputs": [
    {
     "data": {
      "text/plain": [
       "1985"
      ]
     },
     "execution_count": 35,
     "metadata": {},
     "output_type": "execute_result"
    }
   ],
   "source": [
    "df.values[0][0]"
   ]
  },
  {
   "attachments": {},
   "cell_type": "markdown",
   "metadata": {},
   "source": [
    "**Q**: Group the DataFrame by season and find the average winning score for each season."
   ]
  },
  {
   "cell_type": "code",
   "execution_count": 23,
   "metadata": {},
   "outputs": [
    {
     "name": "stdout",
     "output_type": "stream",
     "text": [
      "Average Winning Score by Season:\n",
      "Season 1985: 74.72303987155472\n",
      "Season 1986: 74.81363996827915\n",
      "Season 1987: 77.99386973180077\n",
      "Season 1988: 79.77370417193426\n",
      "Season 1989: 81.7285112707456\n",
      "Season 1990: 80.84647713226205\n",
      "Season 1991: 82.73393160320155\n",
      "Season 1992: 79.99200387690817\n",
      "Season 1993: 79.50878955298845\n",
      "Season 1994: 81.1603448275862\n",
      "Season 1995: 80.09614912926172\n",
      "Season 1996: 78.20548277535177\n",
      "Season 1997: 76.30084235860409\n",
      "Season 1998: 77.22990160787137\n",
      "Season 1999: 76.04358124111795\n",
      "Season 2000: 76.31046691745962\n",
      "Season 2001: 77.08865010073875\n",
      "Season 2002: 76.9635565312843\n",
      "Season 2003: 75.79506065857886\n",
      "Season 2004: 74.97112229271494\n",
      "Season 2005: 74.69368983957219\n",
      "Season 2006: 74.58755518183729\n",
      "Season 2007: 74.8294665873488\n",
      "Season 2008: 74.96242494673639\n",
      "Season 2009: 74.03372070870643\n",
      "Season 2010: 74.65247957438723\n",
      "Season 2011: 74.37418985894014\n",
      "Season 2012: 73.37997334856273\n",
      "Season 2013: 72.84078947368421\n",
      "Season 2014: 76.10126818351361\n",
      "Season 2015: 72.68079940231603\n",
      "Season 2016: 78.29595827900913\n"
     ]
    }
   ],
   "source": [
    "# Calculate the average winning score by season and store the results in a Series\n",
    "average_winning_score_by_season = df.groupby('Season')['Wscore'].mean()\n",
    "\n",
    "# Print the average winning score by season\n",
    "print(\"Average Winning Score by Season:\")\n",
    "for season, average_score in average_winning_score_by_season.items():\n",
    "    print(f\"Season {season}: {average_score}\")\n",
    "\n"
   ]
  },
  {
   "attachments": {},
   "cell_type": "markdown",
   "metadata": {},
   "source": [
    "**Q**: Group the DataFrame by winning team and find the maximum winning score for each team across all seasons."
   ]
  },
  {
   "cell_type": "code",
   "execution_count": 24,
   "metadata": {},
   "outputs": [
    {
     "name": "stdout",
     "output_type": "stream",
     "text": [
      "Maximum Winning Score by Team:\n",
      "Team 1101: 95\n",
      "Team 1102: 111\n",
      "Team 1103: 109\n",
      "Team 1104: 114\n",
      "Team 1105: 114\n",
      "Team 1106: 151\n",
      "Team 1107: 108\n",
      "Team 1108: 120\n",
      "Team 1109: 137\n",
      "Team 1110: 128\n",
      "Team 1111: 111\n",
      "Team 1112: 133\n",
      "Team 1113: 123\n",
      "Team 1114: 125\n",
      "Team 1115: 106\n",
      "Team 1116: 166\n",
      "Team 1117: 116\n",
      "Team 1118: 80\n",
      "Team 1119: 104\n",
      "Team 1120: 120\n",
      "Team 1121: 103\n",
      "Team 1122: 115\n",
      "Team 1123: 115\n",
      "Team 1124: 116\n",
      "Team 1125: 107\n",
      "Team 1126: 112\n",
      "Team 1127: 94\n",
      "Team 1128: 92\n",
      "Team 1129: 116\n",
      "Team 1130: 123\n",
      "Team 1131: 110\n",
      "Team 1132: 136\n",
      "Team 1133: 139\n",
      "Team 1134: 101\n",
      "Team 1135: 115\n",
      "Team 1136: 103\n",
      "Team 1137: 116\n",
      "Team 1138: 110\n",
      "Team 1139: 144\n",
      "Team 1140: 128\n",
      "Team 1141: 115\n",
      "Team 1142: 122\n",
      "Team 1143: 121\n",
      "Team 1144: 104\n",
      "Team 1145: 108\n",
      "Team 1146: 112\n",
      "Team 1147: 124\n",
      "Team 1148: 129\n",
      "Team 1149: 114\n",
      "Team 1150: 117\n",
      "Team 1151: 125\n",
      "Team 1152: 128\n",
      "Team 1153: 116\n",
      "Team 1154: 112\n",
      "Team 1155: 120\n",
      "Team 1156: 121\n",
      "Team 1157: 115\n",
      "Team 1158: 116\n",
      "Team 1159: 111\n",
      "Team 1160: 132\n",
      "Team 1161: 108\n",
      "Team 1162: 108\n",
      "Team 1163: 130\n",
      "Team 1164: 110\n",
      "Team 1165: 108\n",
      "Team 1166: 111\n",
      "Team 1167: 98\n",
      "Team 1168: 117\n",
      "Team 1169: 123\n",
      "Team 1170: 110\n",
      "Team 1171: 105\n",
      "Team 1172: 110\n",
      "Team 1173: 118\n",
      "Team 1174: 113\n",
      "Team 1175: 124\n",
      "Team 1176: 103\n",
      "Team 1177: 125\n",
      "Team 1178: 115\n",
      "Team 1179: 109\n",
      "Team 1180: 110\n",
      "Team 1181: 130\n",
      "Team 1182: 129\n",
      "Team 1183: 107\n",
      "Team 1184: 114\n",
      "Team 1185: 120\n",
      "Team 1186: 118\n",
      "Team 1187: 109\n",
      "Team 1188: 100\n",
      "Team 1189: 112\n",
      "Team 1190: 112\n",
      "Team 1191: 136\n",
      "Team 1192: 110\n",
      "Team 1193: 113\n",
      "Team 1194: 107\n",
      "Team 1195: 111\n",
      "Team 1196: 131\n",
      "Team 1197: 130\n",
      "Team 1198: 118\n",
      "Team 1199: 133\n",
      "Team 1200: 110\n",
      "Team 1201: 114\n",
      "Team 1202: 104\n",
      "Team 1203: 119\n",
      "Team 1204: 119\n",
      "Team 1205: 105\n",
      "Team 1206: 148\n",
      "Team 1207: 123\n",
      "Team 1208: 124\n",
      "Team 1209: 109\n",
      "Team 1210: 135\n",
      "Team 1211: 121\n",
      "Team 1212: 116\n",
      "Team 1213: 99\n",
      "Team 1214: 104\n",
      "Team 1215: 107\n",
      "Team 1216: 122\n",
      "Team 1217: 111\n",
      "Team 1218: 108\n",
      "Team 1219: 115\n",
      "Team 1220: 105\n",
      "Team 1221: 130\n",
      "Team 1222: 112\n",
      "Team 1223: 106\n",
      "Team 1224: 116\n",
      "Team 1225: 116\n",
      "Team 1226: 115\n",
      "Team 1227: 112\n",
      "Team 1228: 127\n",
      "Team 1229: 107\n",
      "Team 1230: 110\n",
      "Team 1231: 118\n",
      "Team 1232: 102\n",
      "Team 1233: 126\n",
      "Team 1234: 126\n",
      "Team 1235: 123\n",
      "Team 1236: 107\n",
      "Team 1237: 108\n",
      "Team 1238: 118\n",
      "Team 1239: 123\n",
      "Team 1240: 105\n",
      "Team 1241: 118\n",
      "Team 1242: 150\n",
      "Team 1243: 115\n",
      "Team 1244: 102\n",
      "Team 1245: 116\n",
      "Team 1246: 129\n",
      "Team 1247: 133\n",
      "Team 1248: 111\n",
      "Team 1249: 143\n",
      "Team 1250: 109\n",
      "Team 1251: 122\n",
      "Team 1252: 104\n",
      "Team 1253: 117\n",
      "Team 1254: 129\n",
      "Team 1255: 110\n",
      "Team 1256: 126\n",
      "Team 1257: 132\n",
      "Team 1258: 186\n",
      "Team 1259: 109\n",
      "Team 1260: 127\n",
      "Team 1261: 159\n",
      "Team 1262: 108\n",
      "Team 1263: 127\n",
      "Team 1264: 111\n",
      "Team 1265: 128\n",
      "Team 1266: 114\n",
      "Team 1267: 127\n",
      "Team 1268: 138\n",
      "Team 1269: 108\n",
      "Team 1270: 113\n",
      "Team 1271: 117\n",
      "Team 1272: 124\n",
      "Team 1273: 117\n",
      "Team 1274: 115\n",
      "Team 1275: 110\n",
      "Team 1276: 127\n",
      "Team 1277: 121\n",
      "Team 1278: 116\n",
      "Team 1279: 113\n",
      "Team 1280: 123\n",
      "Team 1281: 129\n",
      "Team 1282: 128\n",
      "Team 1283: 110\n",
      "Team 1284: 124\n",
      "Team 1285: 109\n",
      "Team 1286: 121\n",
      "Team 1287: 124\n",
      "Team 1288: 106\n",
      "Team 1289: 77\n",
      "Team 1290: 117\n",
      "Team 1291: 114\n",
      "Team 1292: 132\n",
      "Team 1293: 117\n",
      "Team 1294: 105\n",
      "Team 1295: 104\n",
      "Team 1296: 115\n",
      "Team 1297: 96\n",
      "Team 1298: 116\n",
      "Team 1299: 124\n",
      "Team 1300: 94\n",
      "Team 1301: 135\n",
      "Team 1302: 111\n",
      "Team 1303: 108\n",
      "Team 1304: 117\n",
      "Team 1305: 120\n",
      "Team 1306: 113\n",
      "Team 1307: 136\n",
      "Team 1308: 128\n",
      "Team 1309: 110\n",
      "Team 1310: 119\n",
      "Team 1311: 112\n",
      "Team 1312: 96\n",
      "Team 1313: 110\n",
      "Team 1314: 129\n",
      "Team 1315: 101\n",
      "Team 1316: 107\n",
      "Team 1317: 119\n",
      "Team 1318: 152\n",
      "Team 1319: 109\n",
      "Team 1320: 126\n",
      "Team 1321: 108\n",
      "Team 1322: 123\n",
      "Team 1323: 126\n",
      "Team 1324: 114\n",
      "Team 1325: 122\n",
      "Team 1326: 121\n",
      "Team 1327: 99\n",
      "Team 1328: 173\n",
      "Team 1329: 124\n",
      "Team 1330: 120\n",
      "Team 1331: 117\n",
      "Team 1332: 116\n",
      "Team 1333: 106\n",
      "Team 1334: 114\n",
      "Team 1335: 105\n",
      "Team 1336: 129\n",
      "Team 1337: 131\n",
      "Team 1338: 117\n",
      "Team 1339: 114\n",
      "Team 1340: 108\n",
      "Team 1341: 106\n",
      "Team 1342: 95\n",
      "Team 1343: 104\n",
      "Team 1344: 116\n",
      "Team 1345: 119\n",
      "Team 1346: 104\n",
      "Team 1347: 114\n",
      "Team 1348: 116\n",
      "Team 1349: 113\n",
      "Team 1350: 108\n",
      "Team 1351: 113\n",
      "Team 1352: 110\n",
      "Team 1353: 119\n",
      "Team 1354: 115\n",
      "Team 1355: 105\n",
      "Team 1356: 114\n",
      "Team 1357: 133\n",
      "Team 1358: 112\n",
      "Team 1359: 110\n",
      "Team 1360: 113\n",
      "Team 1361: 138\n",
      "Team 1362: 123\n",
      "Team 1363: 98\n",
      "Team 1364: 109\n",
      "Team 1365: 101\n",
      "Team 1366: 87\n",
      "Team 1367: 98\n",
      "Team 1368: 112\n",
      "Team 1369: 125\n",
      "Team 1370: 111\n",
      "Team 1371: 134\n",
      "Team 1372: 112\n",
      "Team 1373: 119\n",
      "Team 1374: 121\n",
      "Team 1375: 156\n",
      "Team 1376: 113\n",
      "Team 1377: 116\n",
      "Team 1378: 117\n",
      "Team 1379: 127\n",
      "Team 1380: 155\n",
      "Team 1381: 140\n",
      "Team 1382: 112\n",
      "Team 1383: 142\n",
      "Team 1384: 111\n",
      "Team 1385: 135\n",
      "Team 1386: 114\n",
      "Team 1387: 116\n",
      "Team 1388: 121\n",
      "Team 1389: 106\n",
      "Team 1390: 129\n",
      "Team 1391: 116\n",
      "Team 1392: 104\n",
      "Team 1393: 135\n",
      "Team 1394: 107\n",
      "Team 1395: 153\n",
      "Team 1396: 110\n",
      "Team 1397: 124\n",
      "Team 1398: 109\n",
      "Team 1399: 113\n",
      "Team 1400: 124\n",
      "Team 1401: 117\n",
      "Team 1402: 111\n",
      "Team 1403: 128\n",
      "Team 1404: 104\n",
      "Team 1405: 119\n",
      "Team 1406: 122\n",
      "Team 1407: 140\n",
      "Team 1408: 122\n",
      "Team 1409: 141\n",
      "Team 1410: 113\n",
      "Team 1411: 119\n",
      "Team 1412: 118\n",
      "Team 1413: 108\n",
      "Team 1414: 121\n",
      "Team 1415: 106\n",
      "Team 1416: 113\n",
      "Team 1417: 149\n",
      "Team 1418: 128\n",
      "Team 1419: 125\n",
      "Team 1420: 115\n",
      "Team 1421: 114\n",
      "Team 1422: 104\n",
      "Team 1423: 115\n",
      "Team 1424: 142\n",
      "Team 1425: 118\n",
      "Team 1426: 125\n",
      "Team 1427: 132\n",
      "Team 1428: 109\n",
      "Team 1429: 119\n",
      "Team 1430: 123\n",
      "Team 1431: 112\n",
      "Team 1432: 97\n",
      "Team 1433: 112\n",
      "Team 1434: 118\n",
      "Team 1435: 116\n",
      "Team 1436: 110\n",
      "Team 1437: 110\n",
      "Team 1438: 128\n",
      "Team 1439: 141\n",
      "Team 1440: 116\n",
      "Team 1441: 125\n",
      "Team 1442: 121\n",
      "Team 1443: 121\n",
      "Team 1444: 119\n",
      "Team 1445: 105\n",
      "Team 1446: 81\n",
      "Team 1447: 122\n",
      "Team 1448: 120\n",
      "Team 1449: 123\n",
      "Team 1450: 131\n",
      "Team 1451: 119\n",
      "Team 1452: 125\n",
      "Team 1453: 115\n",
      "Team 1454: 117\n",
      "Team 1455: 116\n",
      "Team 1456: 116\n",
      "Team 1457: 109\n",
      "Team 1458: 115\n",
      "Team 1459: 105\n",
      "Team 1460: 136\n",
      "Team 1461: 112\n",
      "Team 1462: 125\n",
      "Team 1463: 105\n",
      "Team 1464: 115\n"
     ]
    }
   ],
   "source": [
    "# Find the maximum winning score for each team by grouping the DataFrame by winning team\n",
    "max_winning_score_by_team = df.groupby('Wteam')['Wscore'].max()\n",
    "\n",
    "# Print the maximum winning score by team\n",
    "print(\"Maximum Winning Score by Team:\")\n",
    "for team, max_score in max_winning_score_by_team.items():\n",
    "    print(f\"Team {team}: {max_score}\")\n"
   ]
  },
  {
   "attachments": {},
   "cell_type": "markdown",
   "metadata": {},
   "source": [
    "**Q**: Group the DataFrame by both season and winning team. Find the team with the highest average winning score for each season."
   ]
  },
  {
   "cell_type": "code",
   "execution_count": 25,
   "metadata": {},
   "outputs": [
    {
     "name": "stdout",
     "output_type": "stream",
     "text": [
      "Team with the Highest Average Winning Score by Season:\n",
      "Season\n",
      "1985    1328\n",
      "1986    1109\n",
      "1987    1380\n",
      "1988    1258\n",
      "1989    1258\n",
      "1990    1258\n",
      "1991    1380\n",
      "1992    1380\n",
      "1993    1380\n",
      "1994    1380\n",
      "1995    1206\n",
      "1996    1206\n",
      "1997    1254\n",
      "1998    1395\n",
      "1999    1317\n",
      "2000    1395\n",
      "2001    1395\n",
      "2002    1242\n",
      "2003    1395\n",
      "2004    1194\n",
      "2005    1311\n",
      "2006    1190\n",
      "2007    1440\n",
      "2008    1440\n",
      "2009    1377\n",
      "2010    1440\n",
      "2011    1449\n",
      "2012    1370\n",
      "2013    1377\n",
      "2014    1322\n",
      "2015    1322\n",
      "2016    1146\n",
      "Name: Wscore, dtype: int64\n"
     ]
    }
   ],
   "source": [
    "# Group the DataFrame by both season and winning team\n",
    "grouped_data = df.groupby(['Season', 'Wteam'])\n",
    "\n",
    "# Find the team with the highest average winning score for each season\n",
    "highest_avg_score_by_season = grouped_data['Wscore'].mean().groupby('Season').idxmax().apply(lambda x: x[1])\n",
    "\n",
    "# Print the team with the highest average winning score by season\n",
    "print(\"Team with the Highest Average Winning Score by Season:\")\n",
    "print(highest_avg_score_by_season)\n"
   ]
  },
  {
   "attachments": {},
   "cell_type": "markdown",
   "metadata": {},
   "source": [
    "**Q**: Create a new DataFrame that counts the number of wins for each team in each season. This will involve grouping by both season and winning team, and then using the count() function."
   ]
  },
  {
   "cell_type": "code",
   "execution_count": 26,
   "metadata": {},
   "outputs": [
    {
     "name": "stdout",
     "output_type": "stream",
     "text": [
      "Number of Wins for Each Team in Each Season:\n",
      "       Season  Wteam  WinsCount\n",
      "0        1985   1102          5\n",
      "1        1985   1103          9\n",
      "2        1985   1104         21\n",
      "3        1985   1106         10\n",
      "4        1985   1108         19\n",
      "...       ...    ...        ...\n",
      "10167    2016   1460         20\n",
      "10168    2016   1461         12\n",
      "10169    2016   1462         27\n",
      "10170    2016   1463         21\n",
      "10171    2016   1464          9\n",
      "\n",
      "[10172 rows x 3 columns]\n"
     ]
    }
   ],
   "source": [
    "# Group the DataFrame by both season and winning team\n",
    "grouped_data = df.groupby(['Season', 'Wteam'])\n",
    "\n",
    "# Count the number of wins for each team in each season\n",
    "wins_count = grouped_data.size().reset_index(name='WinsCount')\n",
    "\n",
    "# Print the number of wins for each team in each season\n",
    "print(\"Number of Wins for Each Team in Each Season:\")\n",
    "print(wins_count)\n"
   ]
  },
  {
   "attachments": {},
   "cell_type": "markdown",
   "metadata": {},
   "source": [
    "**Q**: For each season, find the team with the most wins. This will involve creating a DataFrame similar to the one in task 5, and then using the idxmax() function for each season."
   ]
  },
  {
   "cell_type": "code",
   "execution_count": 27,
   "metadata": {},
   "outputs": [
    {
     "name": "stdout",
     "output_type": "stream",
     "text": [
      "Team with the Most Wins for Each Season:\n",
      "Season: 1985, Team: 1385\n",
      "Season: 1985, Team: 1424\n",
      "Season: 1986, Team: 1181\n",
      "Season: 1987, Team: 1424\n",
      "Season: 1988, Team: 1112\n",
      "Season: 1989, Team: 1328\n",
      "Season: 1990, Team: 1247\n",
      "Season: 1990, Team: 1424\n",
      "Season: 1991, Team: 1116\n",
      "Season: 1991, Team: 1424\n",
      "Season: 1992, Team: 1181\n",
      "Season: 1993, Team: 1231\n",
      "Season: 1993, Team: 1314\n",
      "Season: 1994, Team: 1163\n",
      "Season: 1994, Team: 1269\n",
      "Season: 1994, Team: 1314\n",
      "Season: 1995, Team: 1116\n",
      "Season: 1995, Team: 1269\n",
      "Season: 1996, Team: 1269\n",
      "Season: 1997, Team: 1242\n",
      "Season: 1998, Team: 1242\n",
      "Season: 1999, Team: 1181\n",
      "Season: 2000, Team: 1409\n",
      "Season: 2001, Team: 1181\n",
      "Season: 2002, Team: 1153\n",
      "Season: 2003, Team: 1166\n",
      "Season: 2003, Team: 1246\n",
      "Season: 2004, Team: 1390\n",
      "Season: 2005, Team: 1228\n",
      "Season: 2006, Team: 1181\n",
      "Season: 2006, Team: 1272\n",
      "Season: 2007, Team: 1242\n",
      "Season: 2007, Team: 1272\n",
      "Season: 2007, Team: 1326\n",
      "Season: 2008, Team: 1272\n",
      "Season: 2009, Team: 1272\n",
      "Season: 2010, Team: 1242\n",
      "Season: 2010, Team: 1246\n",
      "Season: 2011, Team: 1242\n",
      "Season: 2011, Team: 1326\n",
      "Season: 2012, Team: 1246\n",
      "Season: 2013, Team: 1211\n",
      "Season: 2013, Team: 1272\n",
      "Season: 2014, Team: 1455\n",
      "Season: 2015, Team: 1246\n",
      "Season: 2016, Team: 1242\n",
      "Season: 2016, Team: 1277\n",
      "Season: 2016, Team: 1437\n"
     ]
    }
   ],
   "source": [
    "# Group the DataFrame by season and winning team to count the number of wins\n",
    "wins_count = df.groupby(['Season', 'Wteam']).size().reset_index(name='WinsCount')\n",
    "\n",
    "# Create a mask to filter the rows with the most wins for each season\n",
    "mask = wins_count.groupby('Season')['WinsCount'].transform(max) == wins_count['WinsCount']\n",
    "\n",
    "# Filter the wins_count DataFrame to get the team with the most wins for each season\n",
    "team_with_most_wins_by_season = wins_count.loc[mask, ['Season', 'Wteam']]\n",
    "\n",
    "# Print the team with the most wins for each season\n",
    "print(\"Team with the Most Wins for Each Season:\")\n",
    "for _, row in team_with_most_wins_by_season.iterrows():\n",
    "    season, team = row['Season'], row['Wteam']\n",
    "    print(f\"Season: {season}, Team: {team}\")\n",
    "\n"
   ]
  },
  {
   "attachments": {},
   "cell_type": "markdown",
   "metadata": {},
   "source": [
    "**Q**: Group the DataFrame by losing team and find the average losing score for each team across all seasons. Compare this with the average winning score for each team from task 3. Are there teams that have a higher average losing score than winning score?"
   ]
  },
  {
   "cell_type": "code",
   "execution_count": 28,
   "metadata": {},
   "outputs": [
    {
     "name": "stdout",
     "output_type": "stream",
     "text": [
      "      Avg Losing Score  Avg Winning Score  Avg Losing Score Higher\n",
      "1101         60.586207          78.111111                    False\n",
      "1102         59.201507          69.893204                    False\n",
      "1103         64.117347          75.839768                    False\n",
      "1104         64.374317          75.825944                    False\n",
      "1105         61.675373          74.960894                    False\n",
      "...                ...                ...                      ...\n",
      "1460         63.082915          75.531469                    False\n",
      "1461         64.661972          75.170082                    False\n",
      "1462         68.216117          79.906021                    False\n",
      "1463         60.829213          71.720102                    False\n",
      "1464         65.187063          73.926056                    False\n",
      "\n",
      "[364 rows x 3 columns]\n"
     ]
    }
   ],
   "source": [
    "# Calculate the average losing score for each losing team\n",
    "losing_scores = df.groupby('Lteam')['Lscore'].mean()\n",
    "\n",
    "# Calculate the average winning score for each winning team\n",
    "winning_scores = df.groupby('Wteam')['Wscore'].mean()\n",
    "\n",
    "# Create a DataFrame to compare the average losing scores and winning scores\n",
    "compare_scores = pd.DataFrame({'Avg Losing Score': losing_scores, 'Avg Winning Score': winning_scores})\n",
    "\n",
    "# Add a column indicating if the average losing score is higher than the average winning score\n",
    "compare_scores['Avg Losing Score Higher'] = compare_scores['Avg Losing Score'] > compare_scores['Avg Winning Score']\n",
    "\n",
    "# Print the DataFrame comparing the scores\n",
    "print(compare_scores)\n"
   ]
  },
  {
   "attachments": {},
   "cell_type": "markdown",
   "metadata": {},
   "source": [
    "# Dataframe Iteration"
   ]
  },
  {
   "attachments": {},
   "cell_type": "markdown",
   "metadata": {},
   "source": [
    "In order to iterate through dataframes, we can use the **iterrows()** function. Below is an example of what the first two rows look like. Each row in iterrows is a Series object"
   ]
  },
  {
   "cell_type": "code",
   "execution_count": 29,
   "metadata": {
    "collapsed": false
   },
   "outputs": [
    {
     "name": "stdout",
     "output_type": "stream",
     "text": [
      "Season             1985\n",
      "Daynum               20\n",
      "Wteam              1228\n",
      "Wscore               81\n",
      "Lteam              1328\n",
      "Lscore               64\n",
      "Wloc                  N\n",
      "Numot                 0\n",
      "ScoreDifference      17\n",
      "Name: 0, dtype: object\n",
      "Season             1985\n",
      "Daynum               25\n",
      "Wteam              1106\n",
      "Wscore               77\n",
      "Lteam              1354\n",
      "Lscore               70\n",
      "Wloc                  H\n",
      "Numot                 0\n",
      "ScoreDifference       7\n",
      "Name: 1, dtype: object\n"
     ]
    }
   ],
   "source": [
    "for index, row in df.iterrows():\n",
    "    print(row)\n",
    "    if index == 1:\n",
    "        break"
   ]
  },
  {
   "attachments": {},
   "cell_type": "markdown",
   "metadata": {},
   "source": [
    "**Q**: Create a new column 'HighScoringGame' that is 'Yes' if the winning score is greater than 100 and 'No' otherwise. This will require iterating over the rows of the DataFrame and checking the value of the winning score for each row."
   ]
  },
  {
   "cell_type": "code",
   "execution_count": 30,
   "metadata": {},
   "outputs": [
    {
     "name": "stdout",
     "output_type": "stream",
     "text": [
      "        Season  Daynum  Wteam  Wscore  Lteam  Lscore Wloc  Numot  \\\n",
      "0         1985      20   1228      81   1328      64    N      0   \n",
      "1         1985      25   1106      77   1354      70    H      0   \n",
      "2         1985      25   1112      63   1223      56    H      0   \n",
      "3         1985      25   1165      70   1432      54    H      0   \n",
      "4         1985      25   1192      86   1447      74    H      0   \n",
      "...        ...     ...    ...     ...    ...     ...  ...    ...   \n",
      "145284    2016     132   1114      70   1419      50    N      0   \n",
      "145285    2016     132   1163      72   1272      58    N      0   \n",
      "145286    2016     132   1246      82   1401      77    N      1   \n",
      "145287    2016     132   1277      66   1345      62    N      0   \n",
      "145288    2016     132   1386      87   1433      74    N      0   \n",
      "\n",
      "        ScoreDifference HighScoringGame  \n",
      "0                    17              No  \n",
      "1                     7              No  \n",
      "2                     7              No  \n",
      "3                    16              No  \n",
      "4                    12              No  \n",
      "...                 ...             ...  \n",
      "145284               20              No  \n",
      "145285               14              No  \n",
      "145286                5              No  \n",
      "145287                4              No  \n",
      "145288               13              No  \n",
      "\n",
      "[145289 rows x 10 columns]\n"
     ]
    }
   ],
   "source": [
    "import numpy as np\n",
    "\n",
    "# Create a new column 'HighScoringGame' in dataframe df\n",
    "# np.where(condition, value if true, value if false)\n",
    "# Here, the condition is whether 'Wscore' > 100\n",
    "# If true, assign 'Yes', otherwise assign 'No'\n",
    "df['HighScoringGame'] = np.where(df['Wscore'] > 100, 'Yes', 'No')\n",
    "\n",
    "# print the DataFrame\n",
    "print(df)\n"
   ]
  },
  {
   "attachments": {},
   "cell_type": "markdown",
   "metadata": {},
   "source": [
    "**Q**: Calculate the total number of games played by each team, whether they won or lost. This will require iterating over the rows of the DataFrame and updating a dictionary that keeps track of the number of games for each team."
   ]
  },
  {
   "cell_type": "code",
   "execution_count": 32,
   "metadata": {},
   "outputs": [
    {
     "name": "stdout",
     "output_type": "stream",
     "text": [
      "Team 1181 played 1013 games.\n",
      "Team 1314 played 1010 games.\n",
      "Team 1246 played 999 games.\n",
      "Team 1257 played 994 games.\n",
      "Team 1242 played 993 games.\n",
      "Team 1393 played 993 games.\n",
      "Team 1228 played 992 games.\n",
      "Team 1272 played 992 games.\n",
      "Team 1437 played 983 games.\n",
      "Team 1400 played 982 games.\n",
      "Team 1112 played 981 games.\n",
      "Team 1196 played 981 games.\n",
      "Team 1116 played 980 games.\n",
      "Team 1396 played 979 games.\n",
      "Team 1301 played 979 games.\n",
      "Team 1163 played 977 games.\n",
      "Team 1281 played 977 games.\n",
      "Team 1104 played 975 games.\n",
      "Team 1433 played 975 games.\n",
      "Team 1424 played 974 games.\n",
      "Team 1210 played 972 games.\n",
      "Team 1153 played 970 games.\n",
      "Team 1307 played 969 games.\n",
      "Team 1231 played 969 games.\n",
      "Team 1268 played 969 games.\n",
      "Team 1326 played 968 games.\n",
      "Team 1328 played 968 games.\n",
      "Team 1234 played 968 games.\n",
      "Team 1277 played 966 games.\n",
      "Team 1417 played 966 games.\n",
      "Team 1345 played 966 games.\n",
      "Team 1409 played 966 games.\n",
      "Team 1140 played 965 games.\n",
      "Team 1397 played 963 games.\n",
      "Team 1330 played 963 games.\n",
      "Team 1338 played 962 games.\n",
      "Team 1412 played 962 games.\n",
      "Team 1435 played 961 games.\n",
      "Team 1173 played 960 games.\n",
      "Team 1350 played 959 games.\n",
      "Team 1276 played 959 games.\n",
      "Team 1386 played 958 games.\n",
      "Team 1166 played 957 games.\n",
      "Team 1233 played 957 games.\n",
      "Team 1387 played 956 games.\n",
      "Team 1261 played 956 games.\n",
      "Team 1462 played 954 games.\n",
      "Team 1385 played 954 games.\n",
      "Team 1208 played 954 games.\n",
      "Team 1304 played 953 games.\n",
      "Team 1356 played 953 games.\n",
      "Team 1283 played 952 games.\n",
      "Team 1438 played 952 games.\n",
      "Team 1229 played 951 games.\n",
      "Team 1130 played 951 games.\n",
      "Team 1458 played 951 games.\n",
      "Team 1344 played 951 games.\n",
      "Team 1266 played 951 games.\n",
      "Team 1323 played 950 games.\n",
      "Team 1235 played 950 games.\n",
      "Team 1373 played 950 games.\n",
      "Team 1155 played 950 games.\n",
      "Team 1310 played 949 games.\n",
      "Team 1133 played 949 games.\n",
      "Team 1199 played 949 games.\n",
      "Team 1278 played 948 games.\n",
      "Team 1448 played 947 games.\n",
      "Team 1143 played 947 games.\n",
      "Team 1455 played 947 games.\n",
      "Team 1201 played 947 games.\n",
      "Team 1269 played 946 games.\n",
      "Team 1371 played 946 games.\n",
      "Team 1439 played 946 games.\n",
      "Team 1280 played 946 games.\n",
      "Team 1131 played 945 games.\n",
      "Team 1376 played 945 games.\n",
      "Team 1452 played 945 games.\n",
      "Team 1425 played 944 games.\n",
      "Team 1395 played 943 games.\n",
      "Team 1247 played 943 games.\n",
      "Team 1241 played 942 games.\n",
      "Team 1193 played 942 games.\n",
      "Team 1318 played 942 games.\n",
      "Team 1177 played 942 games.\n",
      "Team 1325 played 942 games.\n",
      "Team 1443 played 942 games.\n",
      "Team 1150 played 942 games.\n",
      "Team 1329 played 941 games.\n",
      "Team 1401 played 940 games.\n",
      "Team 1403 played 939 games.\n",
      "Team 1353 played 939 games.\n",
      "Team 1348 played 938 games.\n",
      "Team 1449 played 938 games.\n",
      "Team 1206 played 938 games.\n",
      "Team 1113 played 937 games.\n",
      "Team 1431 played 937 games.\n",
      "Team 1120 played 936 games.\n",
      "Team 1378 played 936 games.\n",
      "Team 1308 played 935 games.\n",
      "Team 1145 played 934 games.\n",
      "Team 1265 played 934 games.\n",
      "Team 1203 played 933 games.\n",
      "Team 1220 played 933 games.\n",
      "Team 1390 played 932 games.\n",
      "Team 1284 played 932 games.\n",
      "Team 1275 played 932 games.\n",
      "Team 1428 played 931 games.\n",
      "Team 1423 played 931 games.\n",
      "Team 1218 played 931 games.\n",
      "Team 1180 played 930 games.\n",
      "Team 1429 played 930 games.\n",
      "Team 1216 played 930 games.\n",
      "Team 1222 played 930 games.\n",
      "Team 1351 played 929 games.\n",
      "Team 1221 played 929 games.\n",
      "Team 1264 played 928 games.\n",
      "Team 1191 played 928 games.\n",
      "Team 1389 played 928 games.\n",
      "Team 1160 played 928 games.\n",
      "Team 1245 played 927 games.\n",
      "Team 1243 played 927 games.\n",
      "Team 1279 played 927 games.\n",
      "Team 1332 played 927 games.\n",
      "Team 1336 played 926 games.\n",
      "Team 1406 played 926 games.\n",
      "Team 1352 played 925 games.\n",
      "Team 1256 played 925 games.\n",
      "Team 1288 played 925 games.\n",
      "Team 1182 played 924 games.\n",
      "Team 1139 played 923 games.\n",
      "Team 1207 played 923 games.\n",
      "Team 1305 played 922 games.\n",
      "Team 1200 played 922 games.\n",
      "Team 1337 played 922 games.\n",
      "Team 1414 played 922 games.\n",
      "Team 1405 played 921 games.\n",
      "Team 1211 played 921 games.\n",
      "Team 1178 played 920 games.\n",
      "Team 1238 played 920 games.\n",
      "Team 1227 played 917 games.\n",
      "Team 1374 played 916 games.\n",
      "Team 1444 played 916 games.\n",
      "Team 1253 played 915 games.\n",
      "Team 1361 played 915 games.\n",
      "Team 1274 played 915 games.\n",
      "Team 1461 played 914 games.\n",
      "Team 1179 played 914 games.\n",
      "Team 1260 played 914 games.\n",
      "Team 1382 played 914 games.\n",
      "Team 1450 played 913 games.\n",
      "Team 1320 played 913 games.\n",
      "Team 1174 played 913 games.\n",
      "Team 1232 played 913 games.\n",
      "Team 1259 played 913 games.\n",
      "Team 1137 played 912 games.\n",
      "Team 1418 played 912 games.\n",
      "Team 1321 played 912 games.\n",
      "Team 1453 played 912 games.\n",
      "Team 1333 played 911 games.\n",
      "Team 1436 played 911 games.\n",
      "Team 1114 played 910 games.\n",
      "Team 1110 played 910 games.\n",
      "Team 1103 played 910 games.\n",
      "Team 1267 played 909 games.\n",
      "Team 1192 played 908 games.\n",
      "Team 1365 played 907 games.\n",
      "Team 1224 played 907 games.\n",
      "Team 1129 played 907 games.\n",
      "Team 1124 played 906 games.\n",
      "Team 1123 played 906 games.\n",
      "Team 1126 played 906 games.\n",
      "Team 1354 played 906 games.\n",
      "Team 1161 played 905 games.\n",
      "Team 1122 played 903 games.\n",
      "Team 1411 played 903 games.\n",
      "Team 1447 played 903 games.\n",
      "Team 1434 played 902 games.\n",
      "Team 1156 played 900 games.\n",
      "Team 1185 played 900 games.\n",
      "Team 1151 played 899 games.\n",
      "Team 1334 played 899 games.\n",
      "Team 1254 played 898 games.\n",
      "Team 1383 played 898 games.\n",
      "Team 1263 played 898 games.\n",
      "Team 1258 played 898 games.\n",
      "Team 1250 played 898 games.\n",
      "Team 1306 played 898 games.\n",
      "Team 1388 played 897 games.\n",
      "Team 1379 played 896 games.\n",
      "Team 1197 played 896 games.\n",
      "Team 1273 played 896 games.\n",
      "Team 1248 played 896 games.\n",
      "Team 1375 played 896 games.\n",
      "Team 1132 played 895 games.\n",
      "Team 1298 played 894 games.\n",
      "Team 1419 played 894 games.\n",
      "Team 1164 played 893 games.\n",
      "Team 1456 played 891 games.\n",
      "Team 1239 played 891 games.\n",
      "Team 1190 played 891 games.\n",
      "Team 1209 played 891 games.\n",
      "Team 1168 played 891 games.\n",
      "Team 1117 played 891 games.\n",
      "Team 1364 played 890 games.\n",
      "Team 1175 played 890 games.\n",
      "Team 1363 played 889 games.\n",
      "Team 1360 played 889 games.\n",
      "Team 1292 played 888 games.\n",
      "Team 1349 played 888 games.\n",
      "Team 1271 played 887 games.\n",
      "Team 1384 played 887 games.\n",
      "Team 1159 played 887 games.\n",
      "Team 1293 played 886 games.\n",
      "Team 1317 played 883 games.\n",
      "Team 1416 played 881 games.\n",
      "Team 1335 played 880 games.\n",
      "Team 1225 played 880 games.\n",
      "Team 1391 played 879 games.\n",
      "Team 1339 played 879 games.\n",
      "Team 1296 played 879 games.\n",
      "Team 1172 played 879 games.\n",
      "Team 1111 played 876 games.\n",
      "Team 1290 played 875 games.\n",
      "Team 1359 played 874 games.\n",
      "Team 1249 played 873 games.\n",
      "Team 1141 played 872 games.\n",
      "Team 1183 played 871 games.\n",
      "Team 1398 played 870 games.\n",
      "Team 1299 played 870 games.\n",
      "Team 1119 played 868 games.\n",
      "Team 1362 played 867 games.\n",
      "Team 1108 played 866 games.\n",
      "Team 1451 played 866 games.\n",
      "Team 1152 played 865 games.\n",
      "Team 1285 played 865 games.\n",
      "Team 1184 played 863 games.\n",
      "Team 1204 played 862 games.\n",
      "Team 1380 played 862 games.\n",
      "Team 1187 played 861 games.\n",
      "Team 1270 played 861 games.\n",
      "Team 1399 played 860 games.\n",
      "Team 1426 played 859 games.\n",
      "Team 1427 played 858 games.\n",
      "Team 1347 played 858 games.\n",
      "Team 1287 played 857 games.\n",
      "Team 1341 played 857 games.\n",
      "Team 1202 played 856 games.\n",
      "Team 1464 played 856 games.\n",
      "Team 1106 played 855 games.\n",
      "Team 1322 played 854 games.\n",
      "Team 1441 played 854 games.\n",
      "Team 1286 played 851 games.\n",
      "Team 1144 played 850 games.\n",
      "Team 1186 played 849 games.\n",
      "Team 1135 played 847 games.\n",
      "Team 1226 played 847 games.\n",
      "Team 1402 played 847 games.\n",
      "Team 1420 played 845 games.\n",
      "Team 1148 played 844 games.\n",
      "Team 1319 played 843 games.\n",
      "Team 1442 played 840 games.\n",
      "Team 1102 played 840 games.\n",
      "Team 1309 played 840 games.\n",
      "Team 1311 played 839 games.\n",
      "Team 1463 played 838 games.\n",
      "Team 1212 played 837 games.\n",
      "Team 1165 played 833 games.\n",
      "Team 1343 played 832 games.\n",
      "Team 1162 played 831 games.\n",
      "Team 1410 played 831 games.\n",
      "Team 1171 played 829 games.\n",
      "Team 1217 played 828 games.\n",
      "Team 1460 played 827 games.\n",
      "Team 1440 played 825 games.\n",
      "Team 1149 played 824 games.\n",
      "Team 1154 played 820 games.\n",
      "Team 1291 played 815 games.\n",
      "Team 1198 played 812 games.\n",
      "Team 1331 played 809 games.\n",
      "Team 1368 played 808 games.\n",
      "Team 1408 played 808 games.\n",
      "Team 1358 played 806 games.\n",
      "Team 1457 played 801 games.\n",
      "Team 1421 played 799 games.\n",
      "Team 1372 played 795 games.\n",
      "Team 1157 played 784 games.\n",
      "Team 1251 played 755 games.\n",
      "Team 1282 played 745 games.\n",
      "Team 1454 played 737 games.\n",
      "Team 1381 played 735 games.\n",
      "Team 1138 played 728 games.\n",
      "Team 1169 played 724 games.\n",
      "Team 1158 played 720 games.\n",
      "Team 1422 played 719 games.\n",
      "Team 1147 played 698 games.\n",
      "Team 1369 played 682 games.\n",
      "Team 1170 played 660 games.\n",
      "Team 1194 played 647 games.\n",
      "Team 1404 played 643 games.\n",
      "Team 1407 played 639 games.\n",
      "Team 1214 played 627 games.\n",
      "Team 1142 played 597 games.\n",
      "Team 1459 played 575 games.\n",
      "Team 1240 played 568 games.\n",
      "Team 1313 played 563 games.\n",
      "Team 1176 played 526 games.\n",
      "Team 1346 played 522 games.\n",
      "Team 1115 played 520 games.\n",
      "Team 1237 played 519 games.\n",
      "Team 1107 played 512 games.\n",
      "Team 1125 played 506 games.\n",
      "Team 1324 played 506 games.\n",
      "Team 1357 played 500 games.\n",
      "Team 1340 played 497 games.\n",
      "Team 1392 played 493 games.\n",
      "Team 1189 played 481 games.\n",
      "Team 1219 played 466 games.\n",
      "Team 1105 played 447 games.\n",
      "Team 1127 played 442 games.\n",
      "Team 1415 played 418 games.\n",
      "Team 1205 played 405 games.\n",
      "Team 1252 played 401 games.\n",
      "Team 1236 played 400 games.\n",
      "Team 1394 played 390 games.\n",
      "Team 1366 played 384 games.\n",
      "Team 1223 played 363 games.\n",
      "Team 1413 played 348 games.\n",
      "Team 1255 played 344 games.\n",
      "Team 1294 played 336 games.\n",
      "Team 1316 played 327 games.\n",
      "Team 1355 played 327 games.\n",
      "Team 1430 played 325 games.\n",
      "Team 1244 played 322 games.\n",
      "Team 1295 played 308 games.\n",
      "Team 1312 played 276 games.\n",
      "Team 1195 played 273 games.\n",
      "Team 1146 played 267 games.\n",
      "Team 1367 played 267 games.\n",
      "Team 1342 played 260 games.\n",
      "Team 1167 played 260 games.\n",
      "Team 1300 played 252 games.\n",
      "Team 1136 played 240 games.\n",
      "Team 1370 played 222 games.\n",
      "Team 1315 played 217 games.\n",
      "Team 1377 played 210 games.\n",
      "Team 1188 played 207 games.\n",
      "Team 1134 played 200 games.\n",
      "Team 1302 played 200 games.\n",
      "Team 1121 played 175 games.\n",
      "Team 1109 played 169 games.\n",
      "Team 1215 played 147 games.\n",
      "Team 1303 played 129 games.\n",
      "Team 1297 played 113 games.\n",
      "Team 1445 played 107 games.\n",
      "Team 1128 played 106 games.\n",
      "Team 1213 played 84 games.\n",
      "Team 1262 played 83 games.\n",
      "Team 1101 played 76 games.\n",
      "Team 1432 played 69 games.\n",
      "Team 1230 played 64 games.\n",
      "Team 1446 played 48 games.\n",
      "Team 1289 played 48 games.\n",
      "Team 1118 played 27 games.\n",
      "Team 1327 played 22 games.\n"
     ]
    }
   ],
   "source": [
    "# Concatenate 'Wteam' and 'Lteam' columns to count all games regardless of win/loss\n",
    "all_teams = pd.concat([df['Wteam'], df['Lteam']])\n",
    "\n",
    "# Use value_counts() method which returns a Series containing counts of unique values.\n",
    "games_count = all_teams.value_counts()\n",
    "\n",
    "# Iterate over the Series and print the results.\n",
    "# games_count.index refers to the team name, and games_count.values refers to the count of games.\n",
    "for team, count in zip(games_count.index, games_count.values):\n",
    "    print(f\"Team {team} played {count} games.\")\n",
    "\n"
   ]
  },
  {
   "attachments": {},
   "cell_type": "markdown",
   "metadata": {},
   "source": [
    "**Q**: For each season, find the game with the highest score difference (winning score - losing score). This will require iterating over the rows of the DataFrame, keeping track of the highest score difference for each season, and updating it if a game with a higher score difference is found."
   ]
  },
  {
   "cell_type": "code",
   "execution_count": 33,
   "metadata": {},
   "outputs": [
    {
     "name": "stdout",
     "output_type": "stream",
     "text": [
      "In Season 1985, the game with the highest score difference was between teams 1361 and 1288 with a difference of 60.\n",
      "In Season 1986, the game with the highest score difference was between teams 1314 and 1264 with a difference of 84.\n",
      "In Season 1987, the game with the highest score difference was between teams 1155 and 1118 with a difference of 73.\n",
      "In Season 1988, the game with the highest score difference was between teams 1328 and 1147 with a difference of 68.\n",
      "In Season 1989, the game with the highest score difference was between teams 1242 and 1135 with a difference of 70.\n",
      "In Season 1990, the game with the highest score difference was between teams 1181 and 1217 with a difference of 76.\n",
      "In Season 1991, the game with the highest score difference was between teams 1163 and 1148 with a difference of 68.\n",
      "In Season 1992, the game with the highest score difference was between teams 1116 and 1126 with a difference of 82.\n",
      "In Season 1993, the game with the highest score difference was between teams 1328 and 1197 with a difference of 81.\n",
      "In Season 1994, the game with the highest score difference was between teams 1228 and 1152 with a difference of 69.\n",
      "In Season 1995, the game with the highest score difference was between teams 1246 and 1404 with a difference of 74.\n",
      "In Season 1996, the game with the highest score difference was between teams 1409 and 1341 with a difference of 91.\n",
      "In Season 1997, the game with the highest score difference was between teams 1278 and 1106 with a difference of 80.\n",
      "In Season 1998, the game with the highest score difference was between teams 1395 and 1410 with a difference of 66.\n",
      "In Season 1999, the game with the highest score difference was between teams 1268 and 1317 with a difference of 75.\n",
      "In Season 2000, the game with the highest score difference was between teams 1261 and 1212 with a difference of 75.\n",
      "In Season 2001, the game with the highest score difference was between teams 1196 and 1197 with a difference of 75.\n",
      "In Season 2002, the game with the highest score difference was between teams 1328 and 1183 with a difference of 59.\n",
      "In Season 2003, the game with the highest score difference was between teams 1403 and 1311 with a difference of 72.\n",
      "In Season 2004, the game with the highest score difference was between teams 1328 and 1115 with a difference of 70.\n",
      "In Season 2005, the game with the highest score difference was between teams 1403 and 1421 with a difference of 64.\n",
      "In Season 2006, the game with the highest score difference was between teams 1400 and 1341 with a difference of 72.\n",
      "In Season 2007, the game with the highest score difference was between teams 1401 and 1212 with a difference of 74.\n",
      "In Season 2008, the game with the highest score difference was between teams 1182 and 1224 with a difference of 70.\n",
      "In Season 2009, the game with the highest score difference was between teams 1314 and 1421 with a difference of 68.\n",
      "In Season 2010, the game with the highest score difference was between teams 1397 and 1421 with a difference of 75.\n",
      "In Season 2011, the game with the highest score difference was between teams 1388 and 1152 with a difference of 69.\n",
      "In Season 2012, the game with the highest score difference was between teams 1345 and 1296 with a difference of 62.\n",
      "In Season 2013, the game with the highest score difference was between teams 1235 and 1105 with a difference of 58.\n",
      "In Season 2014, the game with the highest score difference was between teams 1256 and 1255 with a difference of 74.\n",
      "In Season 2015, the game with the highest score difference was between teams 1181 and 1342 with a difference of 69.\n",
      "In Season 2016, the game with the highest score difference was between teams 1139 and 1154 with a difference of 73.\n"
     ]
    }
   ],
   "source": [
    "# Create a new column 'score_diff' which is the difference between 'Wscore' and 'Lscore'\n",
    "df['score_diff'] = df['Wscore'] - df['Lscore']\n",
    "\n",
    "# Group the DataFrame by 'Season' and find the row with maximum 'score_diff' in each group\n",
    "highest_score_diff_df = df.loc[df.groupby('Season')['score_diff'].idxmax()]\n",
    "\n",
    "# Iterate over the rows of highest_score_diff_df DataFrame and print the results\n",
    "for index, row in highest_score_diff_df.iterrows():\n",
    "    print(f\"In Season {row['Season']}, the game with the highest score difference was between teams {row['Wteam']} and {row['Lteam']} with a difference of {row['score_diff']}.\")\n",
    "\n",
    "# Optional: Drop the 'score_diff' column if it's no longer needed\n",
    "df.drop('score_diff', axis=1, inplace=True)\n"
   ]
  },
  {
   "attachments": {},
   "cell_type": "markdown",
   "metadata": {},
   "source": [
    "Remember, iterating over a DataFrame should generally be avoided if a vectorized operation can be used instead, as vectorized operations are usually much faster. However, these tasks are designed to give practice with DataFrame iteration for cases where it might be necessary."
   ]
  },
  {
   "attachments": {},
   "cell_type": "markdown",
   "metadata": {},
   "source": [
    "Vectorized Operation Example: Create a new column 'HighScoringGame' in the DataFrame using a vectorized operation. This column should contain 'Yes' if the winning score is greater than 100 and 'No' otherwise. Use the np.where function from the numpy library for this task."
   ]
  },
  {
   "cell_type": "code",
   "execution_count": 46,
   "metadata": {},
   "outputs": [],
   "source": [
    "import numpy as np\n",
    "df['HighScoringGame'] = np.where(df['Wscore'] > 100, 'Yes', 'No')"
   ]
  },
  {
   "attachments": {},
   "cell_type": "markdown",
   "metadata": {},
   "source": [
    "**Q**: Vectorized Operation: Calculate the total number of games played by each team, whether they won or lost. Instead of iterating over the DataFrame, use the value_counts() function on the winning team and losing team columns separately, and then add the two Series together."
   ]
  },
  {
   "cell_type": "code",
   "execution_count": 34,
   "metadata": {},
   "outputs": [
    {
     "name": "stdout",
     "output_type": "stream",
     "text": [
      "Total Number of Games Played by Each Team:\n",
      "1181    1013\n",
      "1314    1010\n",
      "1246     999\n",
      "1257     994\n",
      "1242     993\n",
      "        ... \n",
      "1230      64\n",
      "1446      48\n",
      "1289      48\n",
      "1118      27\n",
      "1327      22\n",
      "Name: team, Length: 364, dtype: int64\n"
     ]
    }
   ],
   "source": [
    "# 'melt' will reshape the DataFrame, transforming the 'Wteam' and 'Lteam' columns into rows under a new column 'team'\n",
    "reshaped_df = df.melt(value_vars=['Wteam', 'Lteam'], var_name='WL', value_name='team')\n",
    "\n",
    "# value_counts() will count the occurrences of each team in the new 'team' column\n",
    "total_games_count = reshaped_df['team'].value_counts()\n",
    "\n",
    "print(\"Total Number of Games Played by Each Team:\")\n",
    "print(total_games_count)\n"
   ]
  },
  {
   "attachments": {},
   "cell_type": "markdown",
   "metadata": {},
   "source": [
    "**Q**: For each season, find the game with the highest score difference (winning score - losing score). Instead of iterating over the DataFrame, create a new column 'ScoreDifference' using vectorized subtraction, then use the groupby() function and idxmax() function to find the game with the highest score difference for each season."
   ]
  },
  {
   "cell_type": "code",
   "execution_count": 35,
   "metadata": {},
   "outputs": [
    {
     "name": "stdout",
     "output_type": "stream",
     "text": [
      "Game with the Highest Score Difference for Each Season:\n",
      "    Season  Daynum  Wteam  Wscore  Lteam  Lscore Wloc  Numot  ScoreDifference  \\\n",
      "0     1985      33   1361     128   1288      68    H      0               60   \n",
      "1     1986      60   1314     129   1264      45    N      0               84   \n",
      "2     1987      51   1155     112   1118      39    H      0               73   \n",
      "3     1988      40   1328     152   1147      84    H      0               68   \n",
      "4     1989      64   1242     115   1135      45    H      0               70   \n",
      "5     1990      26   1181     130   1217      54    H      0               76   \n",
      "6     1991      73   1163     115   1148      47    H      0               68   \n",
      "7     1991     112   1314     118   1154      50    H      0               68   \n",
      "8     1992      30   1116     128   1126      46    H      0               82   \n",
      "9     1993      86   1328     146   1197      65    H      0               81   \n",
      "10    1994      47   1228     121   1152      52    H      0               69   \n",
      "11    1995      26   1246     124   1404      50    H      0               74   \n",
      "12    1996      48   1409     141   1341      50    H      0               91   \n",
      "13    1997      56   1278     114   1106      34    H      0               80   \n",
      "14    1998      33   1395     153   1410      87    H      0               66   \n",
      "15    1998      36   1116     108   1126      42    H      0               66   \n",
      "16    1999      58   1268     132   1317      57    H      0               75   \n",
      "17    2000      19   1261     112   1212      37    H      0               75   \n",
      "18    2001      41   1196     125   1197      50    H      0               75   \n",
      "19    2002      50   1328     109   1183      50    H      0               59   \n",
      "20    2003      33   1403     107   1311      35    H      0               72   \n",
      "21    2004      29   1328      94   1115      24    H      0               70   \n",
      "22    2005      18   1403     119   1421      55    H      0               64   \n",
      "23    2005      56   1257     104   1287      40    H      0               64   \n",
      "24    2006      60   1400     110   1341      38    H      0               72   \n",
      "25    2007      59   1401     101   1212      27    H      0               74   \n",
      "26    2008       4   1182     129   1224      59    H      0               70   \n",
      "27    2009      27   1314     116   1421      48    H      0               68   \n",
      "28    2010      15   1397     124   1421      49    H      0               75   \n",
      "29    2011      22   1388     121   1152      52    H      0               69   \n",
      "30    2012      11   1345      96   1296      34    H      0               62   \n",
      "31    2013       7   1235      98   1105      40    H      0               58   \n",
      "32    2014      61   1256     126   1255      52    H      0               74   \n",
      "33    2015      11   1181     113   1342      44    H      0               69   \n",
      "34    2016      12   1139     144   1154      71    H      0               73   \n",
      "\n",
      "   HighScoringGame  \n",
      "0              Yes  \n",
      "1              Yes  \n",
      "2              Yes  \n",
      "3              Yes  \n",
      "4              Yes  \n",
      "5              Yes  \n",
      "6              Yes  \n",
      "7              Yes  \n",
      "8              Yes  \n",
      "9              Yes  \n",
      "10             Yes  \n",
      "11             Yes  \n",
      "12             Yes  \n",
      "13             Yes  \n",
      "14             Yes  \n",
      "15             Yes  \n",
      "16             Yes  \n",
      "17             Yes  \n",
      "18             Yes  \n",
      "19             Yes  \n",
      "20             Yes  \n",
      "21              No  \n",
      "22             Yes  \n",
      "23             Yes  \n",
      "24             Yes  \n",
      "25             Yes  \n",
      "26             Yes  \n",
      "27             Yes  \n",
      "28             Yes  \n",
      "29             Yes  \n",
      "30              No  \n",
      "31              No  \n",
      "32             Yes  \n",
      "33             Yes  \n",
      "34             Yes  \n"
     ]
    }
   ],
   "source": [
    "# Create a new column 'ScoreDifference' with vectorized subtraction\n",
    "df['ScoreDifference'] = df['Wscore'] - df['Lscore']\n",
    "\n",
    "# Find the max score difference for each season\n",
    "max_score_diff_per_season = df.groupby('Season')['ScoreDifference'].max()\n",
    "\n",
    "# Merge the dataframes on 'Season' and 'ScoreDifference' to get the details of the game with the highest score difference\n",
    "highest_score_diff_game_details = df.merge(max_score_diff_per_season, how='right', \n",
    "                                           left_on=['Season', 'ScoreDifference'], \n",
    "                                           right_on=['Season', 'ScoreDifference'])\n",
    "\n",
    "print(\"Game with the Highest Score Difference for Each Season:\")\n",
    "print(highest_score_diff_game_details)\n",
    "\n",
    "# Optional: Drop the 'ScoreDifference' column if it's no longer needed\n",
    "df.drop('ScoreDifference', axis=1, inplace=True)\n"
   ]
  },
  {
   "attachments": {},
   "cell_type": "markdown",
   "metadata": {},
   "source": [
    "# Extracting Rows and Columns"
   ]
  },
  {
   "attachments": {},
   "cell_type": "markdown",
   "metadata": {},
   "source": [
    "The bracket indexing operator is one way to extract certain columns from a dataframe."
   ]
  },
  {
   "cell_type": "code",
   "execution_count": 49,
   "metadata": {
    "collapsed": false,
    "scrolled": true
   },
   "outputs": [
    {
     "data": {
      "text/html": [
       "<div>\n",
       "<style scoped>\n",
       "    .dataframe tbody tr th:only-of-type {\n",
       "        vertical-align: middle;\n",
       "    }\n",
       "\n",
       "    .dataframe tbody tr th {\n",
       "        vertical-align: top;\n",
       "    }\n",
       "\n",
       "    .dataframe thead th {\n",
       "        text-align: right;\n",
       "    }\n",
       "</style>\n",
       "<table border=\"1\" class=\"dataframe\">\n",
       "  <thead>\n",
       "    <tr style=\"text-align: right;\">\n",
       "      <th></th>\n",
       "      <th>Wscore</th>\n",
       "      <th>Lscore</th>\n",
       "    </tr>\n",
       "  </thead>\n",
       "  <tbody>\n",
       "    <tr>\n",
       "      <th>0</th>\n",
       "      <td>81</td>\n",
       "      <td>64</td>\n",
       "    </tr>\n",
       "    <tr>\n",
       "      <th>1</th>\n",
       "      <td>77</td>\n",
       "      <td>70</td>\n",
       "    </tr>\n",
       "    <tr>\n",
       "      <th>2</th>\n",
       "      <td>63</td>\n",
       "      <td>56</td>\n",
       "    </tr>\n",
       "    <tr>\n",
       "      <th>3</th>\n",
       "      <td>70</td>\n",
       "      <td>54</td>\n",
       "    </tr>\n",
       "    <tr>\n",
       "      <th>4</th>\n",
       "      <td>86</td>\n",
       "      <td>74</td>\n",
       "    </tr>\n",
       "  </tbody>\n",
       "</table>\n",
       "</div>"
      ],
      "text/plain": [
       "   Wscore  Lscore\n",
       "0      81      64\n",
       "1      77      70\n",
       "2      63      56\n",
       "3      70      54\n",
       "4      86      74"
      ]
     },
     "execution_count": 49,
     "metadata": {},
     "output_type": "execute_result"
    }
   ],
   "source": [
    "df[['Wscore', 'Lscore']].head()"
   ]
  },
  {
   "attachments": {},
   "cell_type": "markdown",
   "metadata": {},
   "source": [
    "Notice that you can acheive the same result by using the loc function. Loc is a veryyyy versatile function that can help you in a lot of accessing and extracting tasks. "
   ]
  },
  {
   "cell_type": "code",
   "execution_count": 50,
   "metadata": {
    "collapsed": false
   },
   "outputs": [
    {
     "data": {
      "text/html": [
       "<div>\n",
       "<style scoped>\n",
       "    .dataframe tbody tr th:only-of-type {\n",
       "        vertical-align: middle;\n",
       "    }\n",
       "\n",
       "    .dataframe tbody tr th {\n",
       "        vertical-align: top;\n",
       "    }\n",
       "\n",
       "    .dataframe thead th {\n",
       "        text-align: right;\n",
       "    }\n",
       "</style>\n",
       "<table border=\"1\" class=\"dataframe\">\n",
       "  <thead>\n",
       "    <tr style=\"text-align: right;\">\n",
       "      <th></th>\n",
       "      <th>Wscore</th>\n",
       "      <th>Lscore</th>\n",
       "    </tr>\n",
       "  </thead>\n",
       "  <tbody>\n",
       "    <tr>\n",
       "      <th>0</th>\n",
       "      <td>81</td>\n",
       "      <td>64</td>\n",
       "    </tr>\n",
       "    <tr>\n",
       "      <th>1</th>\n",
       "      <td>77</td>\n",
       "      <td>70</td>\n",
       "    </tr>\n",
       "    <tr>\n",
       "      <th>2</th>\n",
       "      <td>63</td>\n",
       "      <td>56</td>\n",
       "    </tr>\n",
       "    <tr>\n",
       "      <th>3</th>\n",
       "      <td>70</td>\n",
       "      <td>54</td>\n",
       "    </tr>\n",
       "    <tr>\n",
       "      <th>4</th>\n",
       "      <td>86</td>\n",
       "      <td>74</td>\n",
       "    </tr>\n",
       "  </tbody>\n",
       "</table>\n",
       "</div>"
      ],
      "text/plain": [
       "   Wscore  Lscore\n",
       "0      81      64\n",
       "1      77      70\n",
       "2      63      56\n",
       "3      70      54\n",
       "4      86      74"
      ]
     },
     "execution_count": 50,
     "metadata": {},
     "output_type": "execute_result"
    }
   ],
   "source": [
    "df.loc[:, ['Wscore', 'Lscore']].head()"
   ]
  },
  {
   "attachments": {},
   "cell_type": "markdown",
   "metadata": {},
   "source": [
    "Note the difference is the return types when you use brackets and when you use double brackets. "
   ]
  },
  {
   "cell_type": "code",
   "execution_count": 51,
   "metadata": {
    "collapsed": false
   },
   "outputs": [
    {
     "data": {
      "text/plain": [
       "pandas.core.series.Series"
      ]
     },
     "execution_count": 51,
     "metadata": {},
     "output_type": "execute_result"
    }
   ],
   "source": [
    "type(df['Wscore'])"
   ]
  },
  {
   "cell_type": "code",
   "execution_count": 52,
   "metadata": {
    "collapsed": false
   },
   "outputs": [
    {
     "data": {
      "text/plain": [
       "pandas.core.frame.DataFrame"
      ]
     },
     "execution_count": 52,
     "metadata": {},
     "output_type": "execute_result"
    }
   ],
   "source": [
    "type(df[['Wscore']])"
   ]
  },
  {
   "attachments": {},
   "cell_type": "markdown",
   "metadata": {},
   "source": [
    "You've seen before that you can access columns through df['col name']. You can access rows by using slicing operations. "
   ]
  },
  {
   "cell_type": "code",
   "execution_count": 53,
   "metadata": {
    "collapsed": false
   },
   "outputs": [
    {
     "data": {
      "text/html": [
       "<div>\n",
       "<style scoped>\n",
       "    .dataframe tbody tr th:only-of-type {\n",
       "        vertical-align: middle;\n",
       "    }\n",
       "\n",
       "    .dataframe tbody tr th {\n",
       "        vertical-align: top;\n",
       "    }\n",
       "\n",
       "    .dataframe thead th {\n",
       "        text-align: right;\n",
       "    }\n",
       "</style>\n",
       "<table border=\"1\" class=\"dataframe\">\n",
       "  <thead>\n",
       "    <tr style=\"text-align: right;\">\n",
       "      <th></th>\n",
       "      <th>Season</th>\n",
       "      <th>Daynum</th>\n",
       "      <th>Wteam</th>\n",
       "      <th>Wscore</th>\n",
       "      <th>Lteam</th>\n",
       "      <th>Lscore</th>\n",
       "      <th>Wloc</th>\n",
       "      <th>Numot</th>\n",
       "      <th>ScoreDifference</th>\n",
       "      <th>HighScoringGame</th>\n",
       "    </tr>\n",
       "  </thead>\n",
       "  <tbody>\n",
       "    <tr>\n",
       "      <th>0</th>\n",
       "      <td>1985</td>\n",
       "      <td>20</td>\n",
       "      <td>1228</td>\n",
       "      <td>81</td>\n",
       "      <td>1328</td>\n",
       "      <td>64</td>\n",
       "      <td>N</td>\n",
       "      <td>0</td>\n",
       "      <td>17</td>\n",
       "      <td>No</td>\n",
       "    </tr>\n",
       "    <tr>\n",
       "      <th>1</th>\n",
       "      <td>1985</td>\n",
       "      <td>25</td>\n",
       "      <td>1106</td>\n",
       "      <td>77</td>\n",
       "      <td>1354</td>\n",
       "      <td>70</td>\n",
       "      <td>H</td>\n",
       "      <td>0</td>\n",
       "      <td>7</td>\n",
       "      <td>No</td>\n",
       "    </tr>\n",
       "    <tr>\n",
       "      <th>2</th>\n",
       "      <td>1985</td>\n",
       "      <td>25</td>\n",
       "      <td>1112</td>\n",
       "      <td>63</td>\n",
       "      <td>1223</td>\n",
       "      <td>56</td>\n",
       "      <td>H</td>\n",
       "      <td>0</td>\n",
       "      <td>7</td>\n",
       "      <td>No</td>\n",
       "    </tr>\n",
       "  </tbody>\n",
       "</table>\n",
       "</div>"
      ],
      "text/plain": [
       "   Season  Daynum  Wteam  Wscore  Lteam  Lscore Wloc  Numot  ScoreDifference  \\\n",
       "0    1985      20   1228      81   1328      64    N      0               17   \n",
       "1    1985      25   1106      77   1354      70    H      0                7   \n",
       "2    1985      25   1112      63   1223      56    H      0                7   \n",
       "\n",
       "  HighScoringGame  \n",
       "0              No  \n",
       "1              No  \n",
       "2              No  "
      ]
     },
     "execution_count": 53,
     "metadata": {},
     "output_type": "execute_result"
    }
   ],
   "source": [
    "df[0:3]"
   ]
  },
  {
   "attachments": {},
   "cell_type": "markdown",
   "metadata": {},
   "source": [
    "Here's an equivalent using iloc"
   ]
  },
  {
   "cell_type": "code",
   "execution_count": 54,
   "metadata": {
    "collapsed": false
   },
   "outputs": [
    {
     "data": {
      "text/html": [
       "<div>\n",
       "<style scoped>\n",
       "    .dataframe tbody tr th:only-of-type {\n",
       "        vertical-align: middle;\n",
       "    }\n",
       "\n",
       "    .dataframe tbody tr th {\n",
       "        vertical-align: top;\n",
       "    }\n",
       "\n",
       "    .dataframe thead th {\n",
       "        text-align: right;\n",
       "    }\n",
       "</style>\n",
       "<table border=\"1\" class=\"dataframe\">\n",
       "  <thead>\n",
       "    <tr style=\"text-align: right;\">\n",
       "      <th></th>\n",
       "      <th>Season</th>\n",
       "      <th>Daynum</th>\n",
       "      <th>Wteam</th>\n",
       "      <th>Wscore</th>\n",
       "      <th>Lteam</th>\n",
       "      <th>Lscore</th>\n",
       "      <th>Wloc</th>\n",
       "      <th>Numot</th>\n",
       "      <th>ScoreDifference</th>\n",
       "      <th>HighScoringGame</th>\n",
       "    </tr>\n",
       "  </thead>\n",
       "  <tbody>\n",
       "    <tr>\n",
       "      <th>0</th>\n",
       "      <td>1985</td>\n",
       "      <td>20</td>\n",
       "      <td>1228</td>\n",
       "      <td>81</td>\n",
       "      <td>1328</td>\n",
       "      <td>64</td>\n",
       "      <td>N</td>\n",
       "      <td>0</td>\n",
       "      <td>17</td>\n",
       "      <td>No</td>\n",
       "    </tr>\n",
       "    <tr>\n",
       "      <th>1</th>\n",
       "      <td>1985</td>\n",
       "      <td>25</td>\n",
       "      <td>1106</td>\n",
       "      <td>77</td>\n",
       "      <td>1354</td>\n",
       "      <td>70</td>\n",
       "      <td>H</td>\n",
       "      <td>0</td>\n",
       "      <td>7</td>\n",
       "      <td>No</td>\n",
       "    </tr>\n",
       "    <tr>\n",
       "      <th>2</th>\n",
       "      <td>1985</td>\n",
       "      <td>25</td>\n",
       "      <td>1112</td>\n",
       "      <td>63</td>\n",
       "      <td>1223</td>\n",
       "      <td>56</td>\n",
       "      <td>H</td>\n",
       "      <td>0</td>\n",
       "      <td>7</td>\n",
       "      <td>No</td>\n",
       "    </tr>\n",
       "  </tbody>\n",
       "</table>\n",
       "</div>"
      ],
      "text/plain": [
       "   Season  Daynum  Wteam  Wscore  Lteam  Lscore Wloc  Numot  ScoreDifference  \\\n",
       "0    1985      20   1228      81   1328      64    N      0               17   \n",
       "1    1985      25   1106      77   1354      70    H      0                7   \n",
       "2    1985      25   1112      63   1223      56    H      0                7   \n",
       "\n",
       "  HighScoringGame  \n",
       "0              No  \n",
       "1              No  \n",
       "2              No  "
      ]
     },
     "execution_count": 54,
     "metadata": {},
     "output_type": "execute_result"
    }
   ],
   "source": [
    "df.iloc[0:3,:]"
   ]
  },
  {
   "attachments": {},
   "cell_type": "markdown",
   "metadata": {},
   "source": [
    "# Data Cleaning"
   ]
  },
  {
   "attachments": {},
   "cell_type": "markdown",
   "metadata": {},
   "source": [
    "One of the big jobs of doing well in Kaggle competitions is that of data cleaning. A lot of times, the CSV file you're given (especially like in the Titanic dataset), you'll have a lot of missing values in the dataset, which you have to identify. The following **isnull** function will figure out if there are any missing values in the dataframe, and will then sum up the total for each column. In this case, we have a pretty clean dataset."
   ]
  },
  {
   "cell_type": "code",
   "execution_count": 37,
   "metadata": {
    "collapsed": false
   },
   "outputs": [
    {
     "data": {
      "text/plain": [
       "Season             0\n",
       "Daynum             0\n",
       "Wteam              0\n",
       "Wscore             0\n",
       "Lteam              0\n",
       "Lscore             0\n",
       "Wloc               0\n",
       "Numot              0\n",
       "HighScoringGame    0\n",
       "dtype: int64"
      ]
     },
     "execution_count": 37,
     "metadata": {},
     "output_type": "execute_result"
    }
   ],
   "source": [
    "df.isnull().sum()"
   ]
  },
  {
   "attachments": {},
   "cell_type": "markdown",
   "metadata": {},
   "source": [
    "If you do end up having missing values in your datasets, be sure to get familiar with these two functions. \n",
    "* **dropna()** - This function allows you to drop all(or some) of the rows that have missing values. \n",
    "* **fillna()** - This function allows you replace the rows that have missing values with the value that you pass in."
   ]
  },
  {
   "attachments": {},
   "cell_type": "markdown",
   "metadata": {},
   "source": [
    "# Other Useful Functions"
   ]
  },
  {
   "attachments": {},
   "cell_type": "markdown",
   "metadata": {},
   "source": [
    "* **drop()** - This function removes the column or row that you pass in (You also have the specify the axis). \n",
    "* **agg()** - The aggregate function lets you compute summary statistics about each group\n",
    "* **apply()** - Lets you apply a specific function to any/all elements in a Dataframe or Series\n",
    "* **get_dummies()** - Helpful for turning categorical data into one hot vectors.\n",
    "* **drop_duplicates()** - Lets you remove identical rows"
   ]
  },
  {
   "attachments": {},
   "cell_type": "markdown",
   "metadata": {
    "collapsed": true
   },
   "source": [
    "# Lots of Other Great Resources"
   ]
  },
  {
   "attachments": {},
   "cell_type": "markdown",
   "metadata": {},
   "source": [
    "Pandas has been around for a while and there are a lot of other good resources if you're still interested on getting the most out of this library. \n",
    "* http://pandas.pydata.org/pandas-docs/stable/10min.html\n",
    "* https://www.datacamp.com/community/tutorials/pandas-tutorial-dataframe-python\n",
    "* http://www.gregreda.com/2013/10/26/intro-to-pandas-data-structures/\n",
    "* https://www.dataquest.io/blog/pandas-python-tutorial/\n",
    "* https://drive.google.com/file/d/0ByIrJAE4KMTtTUtiVExiUGVkRkE/view\n",
    "* https://www.youtube.com/playlist?list=PL5-da3qGB5ICCsgW1MxlZ0Hq8LL5U3u9y"
   ]
  }
 ],
 "metadata": {
  "anaconda-cloud": {},
  "kernelspec": {
   "display_name": "base",
   "language": "python",
   "name": "python3"
  },
  "language_info": {
   "codemirror_mode": {
    "name": "ipython",
    "version": 3
   },
   "file_extension": ".py",
   "mimetype": "text/x-python",
   "name": "python",
   "nbconvert_exporter": "python",
   "pygments_lexer": "ipython3",
   "version": "3.10.9"
  }
 },
 "nbformat": 4,
 "nbformat_minor": 1
}
